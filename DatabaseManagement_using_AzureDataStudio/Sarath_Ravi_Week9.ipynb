{
    "metadata": {
        "kernelspec": {
            "name": "SQL",
            "display_name": "SQL",
            "language": "sql"
        },
        "language_info": {
            "name": "sql",
            "version": ""
        }
    },
    "nbformat_minor": 2,
    "nbformat": 4,
    "cells": [
        {
            "cell_type": "markdown",
            "source": [
                "1. Write one paragraph documendign your assumption based on the following ERD and your understnding of the business domain"
            ],
            "metadata": {
                "azdata_cell_guid": "e75fcb57-3b36-48ad-9703-a811912adfa6"
            },
            "attachments": {}
        },
        {
            "cell_type": "markdown",
            "source": [
                ""
            ],
            "metadata": {
                "azdata_cell_guid": "4e6dbe81-2cb8-4bca-a726-724c0e44700c"
            }
        },
        {
            "cell_type": "markdown",
            "source": [
                "<span style=\"color: rgb(0, 0, 0); font-family: arial, helvetica, sans-serif; font-size: 13.3333px; background-color: rgb(240, 240, 240);\">2. Create database called ‘Project management'</span>\n",
                "\n",
                "<span style=\"color: rgb(0, 0, 0); font-family: arial, helvetica, sans-serif; font-size: 13.3333px; background-color: rgb(240, 240, 240);\"><br></span>"
            ],
            "metadata": {
                "azdata_cell_guid": "b1e2b81b-3ba0-4b7c-b377-05c5b9b69556"
            },
            "attachments": {}
        },
        {
            "cell_type": "code",
            "source": [
                "create DATABASE Project_management;\r\n",
                "GO"
            ],
            "metadata": {
                "azdata_cell_guid": "fdfb48f6-1c31-4e0e-81ac-f9e0af6af6c0",
                "language": "sql"
            },
            "outputs": [
                {
                    "output_type": "display_data",
                    "data": {
                        "text/html": "Commands completed successfully."
                    },
                    "metadata": {}
                },
                {
                    "output_type": "display_data",
                    "data": {
                        "text/html": "Total execution time: 00:00:00.274"
                    },
                    "metadata": {}
                }
            ],
            "execution_count": 2
        },
        {
            "cell_type": "markdown",
            "source": [
                "3. <span style=\"font-style: inherit; font-weight: inherit; background-color: rgb(240, 240, 240); color: rgb(0, 0, 0); font-family: arial, helvetica, sans-serif; font-size: 13.3333px;\">Create 4 tables based on the diagram below</span>\n",
                "\n",
                "1. 1. Include all of constraints\n",
                "    2. Include primary key and foreign key\n",
                "    3. Use identity function for the primary key in the Project table"
            ],
            "metadata": {
                "azdata_cell_guid": "0b6e5c7f-a218-4956-9a84-b7f15f04a80f"
            },
            "attachments": {}
        },
        {
            "cell_type": "code",
            "source": [
                "use Project_management;\r\n",
                ""
            ],
            "metadata": {
                "azdata_cell_guid": "db9f3536-f8d6-4748-9c8d-9cd98ffa7096",
                "language": "sql",
                "tags": []
            },
            "outputs": [
                {
                    "output_type": "display_data",
                    "data": {
                        "text/html": "Commands completed successfully."
                    },
                    "metadata": {}
                },
                {
                    "output_type": "display_data",
                    "data": {
                        "text/html": "Total execution time: 00:00:00.103"
                    },
                    "metadata": {}
                }
            ],
            "execution_count": 3
        },
        {
            "cell_type": "markdown",
            "source": [
                "**Creating tables with primary key.**\n",
                "\n",
                "**Populating with five rows.**"
            ],
            "metadata": {
                "azdata_cell_guid": "20ed2a13-4ba8-4612-b5fd-6422c8ecee54"
            },
            "attachments": {}
        },
        {
            "cell_type": "code",
            "source": [
                "CREATE table department\r\n",
                "(dname VARCHAR(15) UNIQUE NOT NULL,\r\n",
                "dnumber INT NOT NULL PRIMARY KEY,\r\n",
                "mgr_ssn char(9) NULL);"
            ],
            "metadata": {
                "azdata_cell_guid": "fc0bfead-d995-427d-941b-32a8929e0c97",
                "language": "sql",
                "tags": []
            },
            "outputs": [
                {
                    "output_type": "display_data",
                    "data": {
                        "text/html": "Commands completed successfully."
                    },
                    "metadata": {}
                },
                {
                    "output_type": "display_data",
                    "data": {
                        "text/html": "Total execution time: 00:00:00.005"
                    },
                    "metadata": {}
                }
            ],
            "execution_count": 4
        },
        {
            "cell_type": "code",
            "source": [
                "insert into department(dname, dnumber, mgr_ssn)\r\n",
                "values('sara','007', 'ssn007'),\r\n",
                "('production','008','ssn008'),\r\n",
                "('design','009', 'ssn009'),\r\n",
                "('marketing','010', 'ssn010'),\r\n",
                "('planning','011', 'ssn0011');\r\n",
                ""
            ],
            "metadata": {
                "azdata_cell_guid": "fbedc70d-3360-4ba5-af54-80717a657f25",
                "language": "sql"
            },
            "outputs": [
                {
                    "output_type": "display_data",
                    "data": {
                        "text/html": "(5 rows affected)"
                    },
                    "metadata": {}
                },
                {
                    "output_type": "display_data",
                    "data": {
                        "text/html": "Total execution time: 00:00:00.006"
                    },
                    "metadata": {}
                }
            ],
            "execution_count": 5
        },
        {
            "cell_type": "code",
            "source": [
                "create table project\r\n",
                "(pname varchar(15) NOT NULL,\r\n",
                "pnumber INT NOT NULL Primary Key identity,\r\n",
                "plocation varchar(15),\r\n",
                "dnum INT NULL);\r\n",
                ""
            ],
            "metadata": {
                "azdata_cell_guid": "72675c43-b91a-4713-9629-82029867bc0c",
                "language": "sql"
            },
            "outputs": [
                {
                    "output_type": "display_data",
                    "data": {
                        "text/html": "Commands completed successfully."
                    },
                    "metadata": {}
                },
                {
                    "output_type": "display_data",
                    "data": {
                        "text/html": "Total execution time: 00:00:00.004"
                    },
                    "metadata": {}
                }
            ],
            "execution_count": 6
        },
        {
            "cell_type": "code",
            "source": [
                "insert into project(pname, plocation, dnum)\r\n",
                "values('prj1', 'che', '007'),\r\n",
                "('prj2', 'thirunel', '007'),\r\n",
                "('prj3', 'madu', '009'),\r\n",
                "('prj4', 'kada', '008'),\r\n",
                "('prj5', 'krish', '009');\r\n",
                ""
            ],
            "metadata": {
                "azdata_cell_guid": "ba97b6b0-596f-4209-ace0-ab8d4a2f8063",
                "language": "sql"
            },
            "outputs": [
                {
                    "output_type": "display_data",
                    "data": {
                        "text/html": "(5 rows affected)"
                    },
                    "metadata": {}
                },
                {
                    "output_type": "display_data",
                    "data": {
                        "text/html": "Total execution time: 00:00:00.004"
                    },
                    "metadata": {}
                }
            ],
            "execution_count": 7
        },
        {
            "cell_type": "code",
            "source": [
                "CREATE TABLE work_on\r\n",
                "(essn char(9) NOT NULL,\r\n",
                "pno int,\r\n",
                "hours decimal(3,1));"
            ],
            "metadata": {
                "azdata_cell_guid": "8c84ccd2-2030-4e6e-a077-de9540eb7745",
                "language": "sql"
            },
            "outputs": [
                {
                    "output_type": "display_data",
                    "data": {
                        "text/html": "Commands completed successfully."
                    },
                    "metadata": {}
                },
                {
                    "output_type": "display_data",
                    "data": {
                        "text/html": "Total execution time: 00:00:00.003"
                    },
                    "metadata": {}
                }
            ],
            "execution_count": 8
        },
        {
            "cell_type": "code",
            "source": [
                "insert into work_on(essn)\r\n",
                "values('ssn007'),\r\n",
                "('ssn008'),\r\n",
                "('ssn009'),\r\n",
                "('ssn011'),\r\n",
                "('ssn007');"
            ],
            "metadata": {
                "azdata_cell_guid": "0457e3e3-6f22-4673-85d9-bf87f364e326",
                "language": "sql"
            },
            "outputs": [
                {
                    "output_type": "display_data",
                    "data": {
                        "text/html": "(5 rows affected)"
                    },
                    "metadata": {}
                },
                {
                    "output_type": "display_data",
                    "data": {
                        "text/html": "Total execution time: 00:00:00.004"
                    },
                    "metadata": {}
                }
            ],
            "execution_count": 9
        },
        {
            "cell_type": "code",
            "source": [
                "CREATE TABLE employee\r\n",
                "(fname varchar(100),\r\n",
                "minit char(1),\r\n",
                "lname varchar(100),\r\n",
                "ssn char(9) NOT NULL Primary Key,\r\n",
                "bdate date,\r\n",
                "address varchar(100),\r\n",
                "sex char(1),\r\n",
                "salary decimal(10,2),\r\n",
                "super_ssn char(9) NULL,\r\n",
                "dno int NULL);\r\n",
                ""
            ],
            "metadata": {
                "azdata_cell_guid": "8b7a8bda-d7bb-4aec-a8b6-5a1d02e6ff24",
                "language": "sql",
                "tags": []
            },
            "outputs": [
                {
                    "output_type": "display_data",
                    "data": {
                        "text/html": "Commands completed successfully."
                    },
                    "metadata": {}
                },
                {
                    "output_type": "display_data",
                    "data": {
                        "text/html": "Total execution time: 00:00:00.005"
                    },
                    "metadata": {}
                }
            ],
            "execution_count": 10
        },
        {
            "cell_type": "code",
            "source": [
                "insert into employee(ssn, super_ssn, dno)\r\n",
                "values('ssn007', 'ssn009', 008),\r\n",
                "('ssn008', 'ssn009', 009),\r\n",
                "('ssn009', 'ssn009', 008),\r\n",
                "('ssn010', 'ssn009', 007),\r\n",
                "('ssn0011', 'ssn009', 010)"
            ],
            "metadata": {
                "azdata_cell_guid": "08a66e57-af87-4484-9831-21f468a9ade6",
                "language": "sql"
            },
            "outputs": [
                {
                    "output_type": "display_data",
                    "data": {
                        "text/html": "(5 rows affected)"
                    },
                    "metadata": {}
                },
                {
                    "output_type": "display_data",
                    "data": {
                        "text/html": "Total execution time: 00:00:00.003"
                    },
                    "metadata": {}
                }
            ],
            "execution_count": 11
        },
        {
            "cell_type": "markdown",
            "source": [
                "**Building relationship among tables, using foreign keys.**"
            ],
            "metadata": {
                "azdata_cell_guid": "f9524fd8-2f8d-4282-9c64-3439f0cc81d1"
            },
            "attachments": {}
        },
        {
            "cell_type": "code",
            "source": [
                "alter TABLE department\r\n",
                "\r\n",
                "add FOREIGN KEY(mgr_ssn) REFERENCES employee(ssn) on update no action;"
            ],
            "metadata": {
                "azdata_cell_guid": "e033ee13-eb6a-4d7c-a0a7-cf09d0323ef5",
                "language": "sql",
                "tags": []
            },
            "outputs": [
                {
                    "output_type": "display_data",
                    "data": {
                        "text/html": "Commands completed successfully."
                    },
                    "metadata": {}
                },
                {
                    "output_type": "display_data",
                    "data": {
                        "text/html": "Total execution time: 00:00:00.010"
                    },
                    "metadata": {}
                }
            ],
            "execution_count": 12
        },
        {
            "cell_type": "code",
            "source": [
                "alter TABLE project\r\n",
                "\r\n",
                "add FOREIGN KEY(dnum) REFERENCES department(dnumber) on update no action;"
            ],
            "metadata": {
                "azdata_cell_guid": "d08669f4-74c4-439e-afd2-6874dea73ef6",
                "language": "sql"
            },
            "outputs": [
                {
                    "output_type": "display_data",
                    "data": {
                        "text/html": "Commands completed successfully."
                    },
                    "metadata": {}
                },
                {
                    "output_type": "display_data",
                    "data": {
                        "text/html": "Total execution time: 00:00:00.006"
                    },
                    "metadata": {}
                }
            ],
            "execution_count": 13
        },
        {
            "cell_type": "code",
            "source": [
                "alter TABLE work_on\r\n",
                "add FOREIGN KEY(essn) REFERENCES employee;\r\n",
                "alter table work_on\r\n",
                "add FOREIGN KEY(pno) REFERENCES project;"
            ],
            "metadata": {
                "azdata_cell_guid": "1add5a3b-64d4-426b-a1b9-f8385d8c92b4",
                "language": "sql",
                "tags": []
            },
            "outputs": [
                {
                    "output_type": "error",
                    "ename": "",
                    "evalue": "Msg 547, Level 16, State 0, Line 1\r\nThe ALTER TABLE statement conflicted with the FOREIGN KEY constraint \"FK__work_on__essn__3E52440B\". The conflict occurred in database \"Project_management\", table \"dbo.employee\", column 'ssn'.",
                    "traceback": []
                },
                {
                    "output_type": "display_data",
                    "data": {
                        "text/html": "Total execution time: 00:00:00.008"
                    },
                    "metadata": {}
                }
            ],
            "execution_count": 14
        },
        {
            "cell_type": "code",
            "source": [
                "alter TABLE employee\r\n",
                "add FOREIGN KEY(super_ssn) REFERENCES employee;\r\n",
                "\r\n",
                "alter table employee\r\n",
                "add FOREIGN KEY(dno) REFERENCES department on delete no action;"
            ],
            "metadata": {
                "azdata_cell_guid": "20bae947-0298-4520-9001-39b3a18ca27b",
                "language": "sql"
            },
            "outputs": [
                {
                    "output_type": "display_data",
                    "data": {
                        "text/html": "Commands completed successfully."
                    },
                    "metadata": {}
                },
                {
                    "output_type": "display_data",
                    "data": {
                        "text/html": "Total execution time: 00:00:00.012"
                    },
                    "metadata": {}
                }
            ],
            "execution_count": 15
        }
    ]
}