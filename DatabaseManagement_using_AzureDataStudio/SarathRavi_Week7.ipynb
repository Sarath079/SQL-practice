{
    "metadata": {
        "kernelspec": {
            "name": "SQL",
            "display_name": "SQL",
            "language": "sql"
        },
        "language_info": {
            "name": "sql",
            "version": ""
        }
    },
    "nbformat_minor": 2,
    "nbformat": 4,
    "cells": [
        {
            "cell_type": "markdown",
            "source": [
                "**With AP database**\n",
                "\n",
                "1\\. Write a SELECT statement that returns two columns based on the Vendors table. The first column, Contact, is the vendor contact name in this format: first name followed by last initial (for example, “John S.”) The second column, Phone, is the VendorPhone column without the area code. Only return rows for those vendors in the 559 area code. Sort the result set by first name, then last name."
            ],
            "metadata": {
                "azdata_cell_guid": "c2d1f70a-cbea-4168-98de-c9479fc6ea54"
            },
            "attachments": {}
        },
        {
            "cell_type": "code",
            "source": [
                "use AP;\r\n",
                ""
            ],
            "metadata": {
                "azdata_cell_guid": "33ba269c-4cd6-4242-8062-19562f124435",
                "language": "sql"
            },
            "outputs": [
                {
                    "output_type": "display_data",
                    "data": {
                        "text/html": "Commands completed successfully."
                    },
                    "metadata": {}
                },
                {
                    "output_type": "display_data",
                    "data": {
                        "text/html": "Total execution time: 00:00:00.094"
                    },
                    "metadata": {}
                }
            ],
            "execution_count": 1
        },
        {
            "cell_type": "code",
            "source": [
                "select VendorContactFName + ' ' + LEFT(VendorContactLName, 1) + '.' as Contact, \r\n",
                "RIGHT(VendorPhone, 8) as Phone \r\n",
                "from Vendors\r\n",
                "where SUBSTRING(VendorPhone, 2, 3) = 559\r\n",
                "order by VendorContactFName, VendorContactLName"
            ],
            "metadata": {
                "azdata_cell_guid": "34bbcbdf-a59d-4445-8d59-29c8f213903c",
                "language": "sql"
            },
            "outputs": [
                {
                    "output_type": "display_data",
                    "data": {
                        "text/html": "(34 rows affected)"
                    },
                    "metadata": {}
                },
                {
                    "output_type": "display_data",
                    "data": {
                        "text/html": "Total execution time: 00:00:00.008"
                    },
                    "metadata": {}
                },
                {
                    "output_type": "execute_result",
                    "metadata": {},
                    "execution_count": 13,
                    "data": {
                        "application/vnd.dataresource+json": {
                            "schema": {
                                "fields": [
                                    {
                                        "name": "Contact"
                                    },
                                    {
                                        "name": "Phone"
                                    }
                                ]
                            },
                            "data": [
                                {
                                    "0": "Alexandro A.",
                                    "1": "555-2993"
                                },
                                {
                                    "0": "Anders R.",
                                    "1": "555-5570"
                                },
                                {
                                    "0": "Anne B.",
                                    "1": "555-7900"
                                },
                                {
                                    "0": "Bill L.",
                                    "1": "555-9375"
                                },
                                {
                                    "0": "Caitlin J.",
                                    "1": "555-2420"
                                },
                                {
                                    "0": "Deangelo S.",
                                    "1": "555-6621"
                                },
                                {
                                    "0": "Demetrius H.",
                                    "1": "555-1534"
                                },
                                {
                                    "0": "Derek C.",
                                    "1": "555-3005"
                                },
                                {
                                    "0": "Erick K.",
                                    "1": "555-1551"
                                },
                                {
                                    "0": "Fyodor F.",
                                    "1": "555-7785"
                                },
                                {
                                    "0": "Harold S.",
                                    "1": "555-2770"
                                },
                                {
                                    "0": "Jaime R.",
                                    "1": "555-8625"
                                },
                                {
                                    "0": "Jeffrey S.",
                                    "1": "555-8700"
                                },
                                {
                                    "0": "Johnathon M.",
                                    "1": "555-1881"
                                },
                                {
                                    "0": "Kaitlin H.",
                                    "1": "555-5106"
                                },
                                {
                                    "0": "Kaylea C.",
                                    "1": "555-0765"
                                },
                                {
                                    "0": "Kendall M.",
                                    "1": "555-9999"
                                },
                                {
                                    "0": "Kila B.",
                                    "1": "555-3482"
                                },
                                {
                                    "0": "Kyle M.",
                                    "1": "555-6151"
                                },
                                {
                                    "0": "Kyra F.",
                                    "1": "555-8300"
                                },
                                {
                                    "0": "Leah C.",
                                    "1": "555-4442"
                                },
                                {
                                    "0": "Leann R.",
                                    "1": "555-7473"
                                },
                                {
                                    "0": "Marvin Q.",
                                    "1": "555-9586"
                                },
                                {
                                    "0": "Moises J.",
                                    "1": "555-3801"
                                },
                                {
                                    "0": "Nathanael R.",
                                    "1": "555-4744"
                                },
                                {
                                    "0": "Quentin W.",
                                    "1": "555-3112"
                                },
                                {
                                    "0": "Rachael D.",
                                    "1": "555-1704"
                                },
                                {
                                    "0": "Reba H.",
                                    "1": "555-0600"
                                },
                                {
                                    "0": "Robert A.",
                                    "1": "555-2631"
                                },
                                {
                                    "0": "Rowan K.",
                                    "1": "555-8060"
                                },
                                {
                                    "0": "Salina E.",
                                    "1": "555-7070"
                                },
                                {
                                    "0": "Thom A.",
                                    "1": "555-8484"
                                },
                                {
                                    "0": "Trisha A.",
                                    "1": "555-6643"
                                },
                                {
                                    "0": "Walter B.",
                                    "1": "555-5100"
                                }
                            ]
                        },
                        "text/html": [
                            "<table>",
                            "<tr><th>Contact</th><th>Phone</th></tr>",
                            "<tr><td>Alexandro A.</td><td>555-2993</td></tr>",
                            "<tr><td>Anders R.</td><td>555-5570</td></tr>",
                            "<tr><td>Anne B.</td><td>555-7900</td></tr>",
                            "<tr><td>Bill L.</td><td>555-9375</td></tr>",
                            "<tr><td>Caitlin J.</td><td>555-2420</td></tr>",
                            "<tr><td>Deangelo S.</td><td>555-6621</td></tr>",
                            "<tr><td>Demetrius H.</td><td>555-1534</td></tr>",
                            "<tr><td>Derek C.</td><td>555-3005</td></tr>",
                            "<tr><td>Erick K.</td><td>555-1551</td></tr>",
                            "<tr><td>Fyodor F.</td><td>555-7785</td></tr>",
                            "<tr><td>Harold S.</td><td>555-2770</td></tr>",
                            "<tr><td>Jaime R.</td><td>555-8625</td></tr>",
                            "<tr><td>Jeffrey S.</td><td>555-8700</td></tr>",
                            "<tr><td>Johnathon M.</td><td>555-1881</td></tr>",
                            "<tr><td>Kaitlin H.</td><td>555-5106</td></tr>",
                            "<tr><td>Kaylea C.</td><td>555-0765</td></tr>",
                            "<tr><td>Kendall M.</td><td>555-9999</td></tr>",
                            "<tr><td>Kila B.</td><td>555-3482</td></tr>",
                            "<tr><td>Kyle M.</td><td>555-6151</td></tr>",
                            "<tr><td>Kyra F.</td><td>555-8300</td></tr>",
                            "<tr><td>Leah C.</td><td>555-4442</td></tr>",
                            "<tr><td>Leann R.</td><td>555-7473</td></tr>",
                            "<tr><td>Marvin Q.</td><td>555-9586</td></tr>",
                            "<tr><td>Moises J.</td><td>555-3801</td></tr>",
                            "<tr><td>Nathanael R.</td><td>555-4744</td></tr>",
                            "<tr><td>Quentin W.</td><td>555-3112</td></tr>",
                            "<tr><td>Rachael D.</td><td>555-1704</td></tr>",
                            "<tr><td>Reba H.</td><td>555-0600</td></tr>",
                            "<tr><td>Robert A.</td><td>555-2631</td></tr>",
                            "<tr><td>Rowan K.</td><td>555-8060</td></tr>",
                            "<tr><td>Salina E.</td><td>555-7070</td></tr>",
                            "<tr><td>Thom A.</td><td>555-8484</td></tr>",
                            "<tr><td>Trisha A.</td><td>555-6643</td></tr>",
                            "<tr><td>Walter B.</td><td>555-5100</td></tr>",
                            "</table>"
                        ]
                    }
                }
            ],
            "execution_count": 13
        },
        {
            "cell_type": "markdown",
            "source": [
                "<span style=\"color: rgb(0, 0, 0); font-family: arial, helvetica, sans-serif; font-size: 13.3333px; background-color: rgb(244, 244, 244);\">2. Write a SELECT statement that returns the InvoiceNumber and balance due for every invoice with a non-zero balance and an InvoiceDueDate that’s less than 30 days from 2020-01-01.</span>"
            ],
            "metadata": {
                "azdata_cell_guid": "ab21fff8-4d83-4395-a724-d18008e9ea5f"
            },
            "attachments": {}
        },
        {
            "cell_type": "code",
            "source": [
                "select I.InvoiceNumber, InvoiceTotal-CreditTotal-PaymentTotal as \"balance due\"\r\n",
                "from Invoices I \r\n",
                "where InvoiceTotal-CreditTotal-PaymentTotal <> 0 AND \r\n",
                "InvoiceDueDate > '2020-01-01' and InvoiceDueDate <= '2020-01-31'"
            ],
            "metadata": {
                "azdata_cell_guid": "a9901a03-5be8-4e0b-9caa-b5bebae81e58",
                "language": "sql",
                "tags": []
            },
            "outputs": [
                {
                    "output_type": "display_data",
                    "data": {
                        "text/html": "(0 rows affected)"
                    },
                    "metadata": {}
                },
                {
                    "output_type": "display_data",
                    "data": {
                        "text/html": "Total execution time: 00:00:00.007"
                    },
                    "metadata": {}
                },
                {
                    "output_type": "execute_result",
                    "metadata": {},
                    "execution_count": 14,
                    "data": {
                        "application/vnd.dataresource+json": {
                            "schema": {
                                "fields": [
                                    {
                                        "name": "InvoiceNumber"
                                    },
                                    {
                                        "name": "balance due"
                                    }
                                ]
                            },
                            "data": []
                        },
                        "text/html": [
                            "<table>",
                            "<tr><th>InvoiceNumber</th><th>balance due</th></tr>",
                            "</table>"
                        ]
                    }
                }
            ],
            "execution_count": 14
        },
        {
            "cell_type": "code",
            "source": [
                "--above given result is verified here, no Invoiceduedate is in first month--\r\n",
                "select I.InvoiceNumber, InvoiceTotal-CreditTotal-PaymentTotal as \"balance due\", InvoiceDueDate\r\n",
                "from Invoices I \r\n",
                "where InvoiceTotal-CreditTotal-PaymentTotal <> 0"
            ],
            "metadata": {
                "azdata_cell_guid": "848bf63f-5185-4a3e-b95e-6b0077ece7fb",
                "language": "sql"
            },
            "outputs": [
                {
                    "output_type": "display_data",
                    "data": {
                        "text/html": "(11 rows affected)"
                    },
                    "metadata": {}
                },
                {
                    "output_type": "display_data",
                    "data": {
                        "text/html": "Total execution time: 00:00:00.005"
                    },
                    "metadata": {}
                },
                {
                    "output_type": "execute_result",
                    "metadata": {},
                    "execution_count": 21,
                    "data": {
                        "application/vnd.dataresource+json": {
                            "schema": {
                                "fields": [
                                    {
                                        "name": "InvoiceNumber"
                                    },
                                    {
                                        "name": "balance due"
                                    },
                                    {
                                        "name": "InvoiceDueDate"
                                    }
                                ]
                            },
                            "data": [
                                {
                                    "0": "39104",
                                    "1": "85.31",
                                    "2": "2020-02-09"
                                },
                                {
                                    "0": "963253264",
                                    "1": "52.25",
                                    "2": "2020-02-17"
                                },
                                {
                                    "0": "31361833",
                                    "1": "579.42",
                                    "2": "2020-02-10"
                                },
                                {
                                    "0": "263253268",
                                    "1": "59.97",
                                    "2": "2020-02-20"
                                },
                                {
                                    "0": "263253270",
                                    "1": "67.92",
                                    "2": "2020-02-21"
                                },
                                {
                                    "0": "263253273",
                                    "1": "30.75",
                                    "2": "2020-02-21"
                                },
                                {
                                    "0": "P-0608",
                                    "1": "19351.18",
                                    "2": "2020-02-22"
                                },
                                {
                                    "0": "9982771",
                                    "1": "503.20",
                                    "2": "2020-02-23"
                                },
                                {
                                    "0": "134116",
                                    "1": "90.36",
                                    "2": "2020-02-17"
                                },
                                {
                                    "0": "0-2436",
                                    "1": "10976.06",
                                    "2": "2020-02-29"
                                },
                                {
                                    "0": "547480102",
                                    "1": "224.00",
                                    "2": "2020-02-29"
                                }
                            ]
                        },
                        "text/html": [
                            "<table>",
                            "<tr><th>InvoiceNumber</th><th>balance due</th><th>InvoiceDueDate</th></tr>",
                            "<tr><td>39104</td><td>85.31</td><td>2020-02-09</td></tr>",
                            "<tr><td>963253264</td><td>52.25</td><td>2020-02-17</td></tr>",
                            "<tr><td>31361833</td><td>579.42</td><td>2020-02-10</td></tr>",
                            "<tr><td>263253268</td><td>59.97</td><td>2020-02-20</td></tr>",
                            "<tr><td>263253270</td><td>67.92</td><td>2020-02-21</td></tr>",
                            "<tr><td>263253273</td><td>30.75</td><td>2020-02-21</td></tr>",
                            "<tr><td>P-0608</td><td>19351.18</td><td>2020-02-22</td></tr>",
                            "<tr><td>9982771</td><td>503.20</td><td>2020-02-23</td></tr>",
                            "<tr><td>134116</td><td>90.36</td><td>2020-02-17</td></tr>",
                            "<tr><td>0-2436</td><td>10976.06</td><td>2020-02-29</td></tr>",
                            "<tr><td>547480102</td><td>224.00</td><td>2020-02-29</td></tr>",
                            "</table>"
                        ]
                    }
                }
            ],
            "execution_count": 21
        },
        {
            "cell_type": "markdown",
            "source": [
                " **With Adventure Works database:** <span style=\"color: rgb(0, 0, 0); font-family: arial, helvetica, sans-serif; font-size: 13.3333px; background-color: rgb(244, 244, 244);\"><br></span>\n",
                "\n",
                "<span style=\"color: rgb(0, 0, 0); font-family: arial, helvetica, sans-serif; font-size: 13.3333px; background-color: rgb(244, 244, 244);\">3. Create tiers for sales bonus amounts for all salespoeple with territories assigned. Us Sales.SalesPerson table. Use 'Case' function</span>"
            ],
            "metadata": {
                "azdata_cell_guid": "0cba42b5-2882-4d4b-8ae5-52c69e831a1e"
            },
            "attachments": {}
        },
        {
            "cell_type": "code",
            "source": [
                "use AdventureWorks2019"
            ],
            "metadata": {
                "azdata_cell_guid": "29c4c897-c592-46fa-8068-0912992361ed",
                "language": "sql"
            },
            "outputs": [
                {
                    "output_type": "display_data",
                    "data": {
                        "text/html": "Commands completed successfully."
                    },
                    "metadata": {}
                },
                {
                    "output_type": "display_data",
                    "data": {
                        "text/html": "Total execution time: 00:00:00"
                    },
                    "metadata": {}
                }
            ],
            "execution_count": 22
        },
        {
            "cell_type": "code",
            "source": [
                "select ss.Bonus, ss.TerritoryID, SalesLastYear,\r\n",
                "CASE\r\n",
                " when Bonus between 0 and 3000\r\n",
                " then 'low bonus'\r\n",
                " when Bonus between 3000 and 5000\r\n",
                " then 'average bonus'\r\n",
                " when Bonus > 5000\r\n",
                " then 'high bonus'\r\n",
                "END as Bonus_status\r\n",
                "from Sales.SalesPerson ss\r\n",
                "where TerritoryID is not null and SalesLastYear <>0"
            ],
            "metadata": {
                "azdata_cell_guid": "c6f66214-132d-4fa3-80a1-10c21cc9f243",
                "language": "sql",
                "tags": []
            },
            "outputs": [
                {
                    "output_type": "display_data",
                    "data": {
                        "text/html": "(13 rows affected)"
                    },
                    "metadata": {}
                },
                {
                    "output_type": "display_data",
                    "data": {
                        "text/html": "Total execution time: 00:00:00.009"
                    },
                    "metadata": {}
                },
                {
                    "output_type": "execute_result",
                    "metadata": {},
                    "execution_count": 47,
                    "data": {
                        "application/vnd.dataresource+json": {
                            "schema": {
                                "fields": [
                                    {
                                        "name": "Bonus"
                                    },
                                    {
                                        "name": "TerritoryID"
                                    },
                                    {
                                        "name": "SalesLastYear"
                                    },
                                    {
                                        "name": "Bonus_status"
                                    }
                                ]
                            },
                            "data": [
                                {
                                    "0": "4100.00",
                                    "1": "2",
                                    "2": "1750406.4785",
                                    "3": "average bonus"
                                },
                                {
                                    "0": "2000.00",
                                    "1": "4",
                                    "2": "1439156.0291",
                                    "3": "low bonus"
                                },
                                {
                                    "0": "2500.00",
                                    "1": "3",
                                    "2": "1997186.2037",
                                    "3": "low bonus"
                                },
                                {
                                    "0": "500.00",
                                    "1": "6",
                                    "2": "1620276.8966",
                                    "3": "low bonus"
                                },
                                {
                                    "0": "6700.00",
                                    "1": "5",
                                    "2": "1849640.9418",
                                    "3": "high bonus"
                                },
                                {
                                    "0": "5000.00",
                                    "1": "1",
                                    "2": "1927059.178",
                                    "3": "average bonus"
                                },
                                {
                                    "0": "3550.00",
                                    "1": "4",
                                    "2": "2073505.9999",
                                    "3": "average bonus"
                                },
                                {
                                    "0": "5000.00",
                                    "1": "6",
                                    "2": "2038234.6549",
                                    "3": "average bonus"
                                },
                                {
                                    "0": "3500.00",
                                    "1": "1",
                                    "2": "1371635.3158",
                                    "3": "average bonus"
                                },
                                {
                                    "0": "5650.00",
                                    "1": "9",
                                    "2": "2278548.9776",
                                    "3": "high bonus"
                                },
                                {
                                    "0": "75.00",
                                    "1": "8",
                                    "2": "1307949.7917",
                                    "3": "low bonus"
                                },
                                {
                                    "0": "5150.00",
                                    "1": "10",
                                    "2": "1635823.3967",
                                    "3": "high bonus"
                                },
                                {
                                    "0": "985.00",
                                    "1": "7",
                                    "2": "2396539.7601",
                                    "3": "low bonus"
                                }
                            ]
                        },
                        "text/html": [
                            "<table>",
                            "<tr><th>Bonus</th><th>TerritoryID</th><th>SalesLastYear</th><th>Bonus_status</th></tr>",
                            "<tr><td>4100.00</td><td>2</td><td>1750406.4785</td><td>average bonus</td></tr>",
                            "<tr><td>2000.00</td><td>4</td><td>1439156.0291</td><td>low bonus</td></tr>",
                            "<tr><td>2500.00</td><td>3</td><td>1997186.2037</td><td>low bonus</td></tr>",
                            "<tr><td>500.00</td><td>6</td><td>1620276.8966</td><td>low bonus</td></tr>",
                            "<tr><td>6700.00</td><td>5</td><td>1849640.9418</td><td>high bonus</td></tr>",
                            "<tr><td>5000.00</td><td>1</td><td>1927059.178</td><td>average bonus</td></tr>",
                            "<tr><td>3550.00</td><td>4</td><td>2073505.9999</td><td>average bonus</td></tr>",
                            "<tr><td>5000.00</td><td>6</td><td>2038234.6549</td><td>average bonus</td></tr>",
                            "<tr><td>3500.00</td><td>1</td><td>1371635.3158</td><td>average bonus</td></tr>",
                            "<tr><td>5650.00</td><td>9</td><td>2278548.9776</td><td>high bonus</td></tr>",
                            "<tr><td>75.00</td><td>8</td><td>1307949.7917</td><td>low bonus</td></tr>",
                            "<tr><td>5150.00</td><td>10</td><td>1635823.3967</td><td>high bonus</td></tr>",
                            "<tr><td>985.00</td><td>7</td><td>2396539.7601</td><td>low bonus</td></tr>",
                            "</table>"
                        ]
                    }
                }
            ],
            "execution_count": 47
        },
        {
            "cell_type": "markdown",
            "source": [
                "<span style=\"color: rgb(0, 0, 0); font-family: arial, helvetica, sans-serif; font-size: 13.3333px; background-color: rgb(244, 244, 244);\">4. Create a table showing the total sales generated in each of the bonus tiers. You will need to use ‘select … into ‘command. Use query created for the previous question as a subquery to accomplish this task.</span>"
            ],
            "metadata": {
                "azdata_cell_guid": "720cbfde-ca0b-4ed0-98c3-632e1f722573"
            },
            "attachments": {}
        },
        {
            "cell_type": "code",
            "source": [
                "drop table Sales.Total\r\n",
                "--creating table called 'Sales.Total'\r\n",
                "select sum(tier.SalesLastYear) as Total, Bonus_status\r\n",
                "into Sales.Total \r\n",
                "from (select ss.Bonus, ss.TerritoryID, SalesLastYear,\r\n",
                "CASE\r\n",
                " when Bonus between 0 and 3000\r\n",
                " then 'low bonus'\r\n",
                " when Bonus between 3000 and 5000\r\n",
                " then 'average bonus'\r\n",
                " when Bonus > 5000\r\n",
                " then 'high bonus'\r\n",
                "END as Bonus_status\r\n",
                "from Sales.SalesPerson ss\r\n",
                "where TerritoryID is not null and SalesLastYear <>0) as tier\r\n",
                "GROUP by Bonus_status;"
            ],
            "metadata": {
                "azdata_cell_guid": "6a3627c8-597f-49e8-afba-77faa4cca63f",
                "language": "sql"
            },
            "outputs": [
                {
                    "output_type": "display_data",
                    "data": {
                        "text/html": "(3 rows affected)"
                    },
                    "metadata": {}
                },
                {
                    "output_type": "display_data",
                    "data": {
                        "text/html": "Total execution time: 00:00:00.013"
                    },
                    "metadata": {}
                }
            ],
            "execution_count": 55
        },
        {
            "cell_type": "code",
            "source": [
                "select * from Sales.Total;"
            ],
            "metadata": {
                "azdata_cell_guid": "7809ad56-3aea-45eb-8a29-f851c64ef466",
                "language": "sql"
            },
            "outputs": [
                {
                    "output_type": "display_data",
                    "data": {
                        "text/html": "(3 rows affected)"
                    },
                    "metadata": {}
                },
                {
                    "output_type": "display_data",
                    "data": {
                        "text/html": "Total execution time: 00:00:00.004"
                    },
                    "metadata": {}
                },
                {
                    "output_type": "execute_result",
                    "metadata": {},
                    "execution_count": 56,
                    "data": {
                        "application/vnd.dataresource+json": {
                            "schema": {
                                "fields": [
                                    {
                                        "name": "Total"
                                    },
                                    {
                                        "name": "Bonus_status"
                                    }
                                ]
                            },
                            "data": [
                                {
                                    "0": "9160841.6271",
                                    "1": "average bonus"
                                },
                                {
                                    "0": "5764013.3161",
                                    "1": "high bonus"
                                },
                                {
                                    "0": "8761108.6812",
                                    "1": "low bonus"
                                }
                            ]
                        },
                        "text/html": [
                            "<table>",
                            "<tr><th>Total</th><th>Bonus_status</th></tr>",
                            "<tr><td>9160841.6271</td><td>average bonus</td></tr>",
                            "<tr><td>5764013.3161</td><td>high bonus</td></tr>",
                            "<tr><td>8761108.6812</td><td>low bonus</td></tr>",
                            "</table>"
                        ]
                    }
                }
            ],
            "execution_count": 56
        }
    ]
}