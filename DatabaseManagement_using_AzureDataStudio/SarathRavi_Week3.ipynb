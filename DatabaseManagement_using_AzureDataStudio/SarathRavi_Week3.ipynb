{
    "metadata": {
        "kernelspec": {
            "name": "SQL",
            "display_name": "SQL",
            "language": "sql"
        },
        "language_info": {
            "name": "sql",
            "version": ""
        }
    },
    "nbformat_minor": 2,
    "nbformat": 4,
    "cells": [
        {
            "cell_type": "markdown",
            "source": [
                "<span style=\"color: rgb(0, 0, 0); font-family: arial, helvetica, sans-serif; font-size: 13.3333px; background-color: rgb(244, 244, 244);\">1. Using GROUP BY, find the largest and smallest unit price by \"SpecialOfferID\". Further refine the results to those that have a minimum unit price &gt; $200. Sort the results by maximum unit price column. Limit the report to the first 2</span>"
            ],
            "metadata": {
                "azdata_cell_guid": "703ae9a4-ab1e-4ae1-ad92-f77da4dbc15f"
            },
            "attachments": {}
        },
        {
            "cell_type": "code",
            "source": [
                "Use AdventureWorks2019\r\n",
                "select top (2)  SpecialOfferID, max(UnitPrice) as largest, min(UnitPrice) as smallest\r\n",
                "from Sales.SalesOrderDetail\r\n",
                "group by SpecialOfferID\r\n",
                "having min(UnitPrice)>200\r\n",
                "order by largest;"
            ],
            "metadata": {
                "azdata_cell_guid": "2f6d024a-c489-40c1-8830-2adeea60e90b",
                "language": "sql"
            },
            "outputs": [
                {
                    "output_type": "display_data",
                    "data": {
                        "text/html": "(2 rows affected)"
                    },
                    "metadata": {}
                },
                {
                    "output_type": "display_data",
                    "data": {
                        "text/html": "Total execution time: 00:00:00.063"
                    },
                    "metadata": {}
                },
                {
                    "output_type": "execute_result",
                    "metadata": {},
                    "execution_count": 3,
                    "data": {
                        "application/vnd.dataresource+json": {
                            "schema": {
                                "fields": [
                                    {
                                        "name": "SpecialOfferID"
                                    },
                                    {
                                        "name": "largest"
                                    },
                                    {
                                        "name": "smallest"
                                    }
                                ]
                            },
                            "data": [
                                {
                                    "0": "9",
                                    "1": "234.897",
                                    "2": "234.897"
                                },
                                {
                                    "0": "13",
                                    "1": "742.35",
                                    "2": "334.0575"
                                }
                            ]
                        },
                        "text/html": [
                            "<table>",
                            "<tr><th>SpecialOfferID</th><th>largest</th><th>smallest</th></tr>",
                            "<tr><td>9</td><td>234.897</td><td>234.897</td></tr>",
                            "<tr><td>13</td><td>742.35</td><td>334.0575</td></tr>",
                            "</table>"
                        ]
                    }
                }
            ],
            "execution_count": 3
        },
        {
            "cell_type": "markdown",
            "source": [
                "2. Using tables Sales Order Header and Sales Territory find out the top three territories with the highest Gross Sales"
            ],
            "metadata": {
                "azdata_cell_guid": "0b3ae3ee-fde5-4011-874e-284c3689e16f"
            },
            "attachments": {}
        },
        {
            "cell_type": "code",
            "source": [
                "use AdventureWorks2019\r\n",
                "select top(3) soh.TerritoryID, soh.TotalDue as 'Gross Sales', t.Name, CountryRegionCode\r\n",
                "from Sales.SalesTerritory t join Sales.SalesOrderHeader soh \r\n",
                "on t.TerritoryID = soh.TerritoryID\r\n",
                "order by TotalDue desc;"
            ],
            "metadata": {
                "azdata_cell_guid": "f36d266f-c93e-4b22-8ef1-b3d52e5e3c70",
                "language": "sql"
            },
            "outputs": [
                {
                    "output_type": "display_data",
                    "data": {
                        "text/html": "(3 rows affected)"
                    },
                    "metadata": {}
                },
                {
                    "output_type": "display_data",
                    "data": {
                        "text/html": "Total execution time: 00:00:00.051"
                    },
                    "metadata": {}
                },
                {
                    "output_type": "execute_result",
                    "metadata": {},
                    "execution_count": 7,
                    "data": {
                        "application/vnd.dataresource+json": {
                            "schema": {
                                "fields": [
                                    {
                                        "name": "TerritoryID"
                                    },
                                    {
                                        "name": "Gross Sales"
                                    },
                                    {
                                        "name": "Name"
                                    },
                                    {
                                        "name": "CountryRegionCode"
                                    }
                                ]
                            },
                            "data": [
                                {
                                    "0": "4",
                                    "1": "187487.825",
                                    "2": "Southwest",
                                    "3": "US"
                                },
                                {
                                    "0": "4",
                                    "1": "182018.6272",
                                    "2": "Southwest",
                                    "3": "US"
                                },
                                {
                                    "0": "6",
                                    "1": "170512.6689",
                                    "2": "Canada",
                                    "3": "CA"
                                }
                            ]
                        },
                        "text/html": [
                            "<table>",
                            "<tr><th>TerritoryID</th><th>Gross Sales</th><th>Name</th><th>CountryRegionCode</th></tr>",
                            "<tr><td>4</td><td>187487.825</td><td>Southwest</td><td>US</td></tr>",
                            "<tr><td>4</td><td>182018.6272</td><td>Southwest</td><td>US</td></tr>",
                            "<tr><td>6</td><td>170512.6689</td><td>Canada</td><td>CA</td></tr>",
                            "</table>"
                        ]
                    }
                }
            ],
            "execution_count": 7
        },
        {
            "cell_type": "markdown",
            "source": [
                "<span style=\"color: rgb(0, 0, 0); font-family: arial, helvetica, sans-serif; font-size: 13.3333px; background-color: rgb(244, 244, 244);\">3. Find average sales (Total Due column) for each sales person ID. Select top 3 sales persons with the greatest amount of sales</span>"
            ],
            "metadata": {
                "azdata_cell_guid": "442fd52a-49f2-4c26-a0a5-2a45c40536c6"
            },
            "attachments": {}
        },
        {
            "cell_type": "code",
            "source": [
                "use AdventureWorks2019\r\n",
                "select top (3)avg(TotalDue) as Average, SalesPersonID\r\n",
                "from Sales.SalesOrderHeader soh \r\n",
                "group by SalesPersonID\r\n",
                "order by Average desc;"
            ],
            "metadata": {
                "azdata_cell_guid": "0df66f55-e6eb-42ef-a766-feb35bfc9428",
                "language": "sql"
            },
            "outputs": [
                {
                    "output_type": "display_data",
                    "data": {
                        "text/html": "(3 rows affected)"
                    },
                    "metadata": {}
                },
                {
                    "output_type": "display_data",
                    "data": {
                        "text/html": "Total execution time: 00:00:00.029"
                    },
                    "metadata": {}
                },
                {
                    "output_type": "execute_result",
                    "metadata": {},
                    "execution_count": 5,
                    "data": {
                        "application/vnd.dataresource+json": {
                            "schema": {
                                "fields": [
                                    {
                                        "name": "Average"
                                    },
                                    {
                                        "name": "SalesPersonID"
                                    }
                                ]
                            },
                            "data": [
                                {
                                    "0": "39455.2223",
                                    "1": "280"
                                },
                                {
                                    "0": "29998.2143",
                                    "1": "281"
                                },
                                {
                                    "0": "29074.1554",
                                    "1": "290"
                                }
                            ]
                        },
                        "text/html": [
                            "<table>",
                            "<tr><th>Average</th><th>SalesPersonID</th></tr>",
                            "<tr><td>39455.2223</td><td>280</td></tr>",
                            "<tr><td>29998.2143</td><td>281</td></tr>",
                            "<tr><td>29074.1554</td><td>290</td></tr>",
                            "</table>"
                        ]
                    }
                }
            ],
            "execution_count": 5
        },
        {
            "cell_type": "markdown",
            "source": [
                "<span style=\"color: rgb(0, 0, 0); font-family: arial, helvetica, sans-serif; font-size: 13.3333px; background-color: rgb(244, 244, 244);\">4. Analyze the sales in May 2014, what is the top 3 days with the highest total sales?</span>"
            ],
            "metadata": {
                "azdata_cell_guid": "aa17a5a6-9b39-4777-8ced-955023eac7d1"
            },
            "attachments": {}
        },
        {
            "cell_type": "code",
            "source": [
                "use AdventureWorks2019\r\n",
                "select top (3) OrderDate, sum(TotalDue) as 'total sales'\r\n",
                "from Sales.SalesOrderHeader\r\n",
                "where OrderDate >= '2014/5/1' and OrderDate <= '2014/5/31'\r\n",
                "group by OrderDate\r\n",
                "Order by [total sales] desc"
            ],
            "metadata": {
                "azdata_cell_guid": "01282e73-33aa-4d12-a7cd-ea5b1496626f",
                "language": "sql"
            },
            "outputs": [
                {
                    "output_type": "display_data",
                    "data": {
                        "text/html": "(3 rows affected)"
                    },
                    "metadata": {}
                },
                {
                    "output_type": "display_data",
                    "data": {
                        "text/html": "Total execution time: 00:00:00.047"
                    },
                    "metadata": {}
                },
                {
                    "output_type": "execute_result",
                    "metadata": {},
                    "execution_count": 11,
                    "data": {
                        "application/vnd.dataresource+json": {
                            "schema": {
                                "fields": [
                                    {
                                        "name": "OrderDate"
                                    },
                                    {
                                        "name": "total sales"
                                    }
                                ]
                            },
                            "data": [
                                {
                                    "0": "2014-05-01 00:00:00.000",
                                    "1": "3899450.7146"
                                },
                                {
                                    "0": "2014-05-14 00:00:00.000",
                                    "1": "106755.8316"
                                },
                                {
                                    "0": "2014-05-07 00:00:00.000",
                                    "1": "98452.651"
                                }
                            ]
                        },
                        "text/html": [
                            "<table>",
                            "<tr><th>OrderDate</th><th>total sales</th></tr>",
                            "<tr><td>2014-05-01 00:00:00.000</td><td>3899450.7146</td></tr>",
                            "<tr><td>2014-05-14 00:00:00.000</td><td>106755.8316</td></tr>",
                            "<tr><td>2014-05-07 00:00:00.000</td><td>98452.651</td></tr>",
                            "</table>"
                        ]
                    }
                }
            ],
            "execution_count": 11
        },
        {
            "cell_type": "markdown",
            "source": [
                "<span style=\"color: rgb(0, 0, 0); font-family: arial, helvetica, sans-serif; font-size: 13.3333px; background-color: rgb(244, 244, 244);\">5.&nbsp; Select CustomerIDs with total Sales above 900K</span>"
            ],
            "metadata": {
                "azdata_cell_guid": "dbe548a3-3c00-446c-86b7-8ec172273c21"
            },
            "attachments": {}
        },
        {
            "cell_type": "code",
            "source": [
                "use AdventureWorks2019\r\n",
                "select CustomerID, sum(TotalDue)\r\n",
                "from Sales.SalesOrderHeader as soh \r\n",
                "group by CustomerID\r\n",
                "having sum(TotalDue)>900000;\r\n",
                ""
            ],
            "metadata": {
                "azdata_cell_guid": "1d15b296-18d3-4f56-880e-3ee6a1b168a5",
                "language": "sql"
            },
            "outputs": [
                {
                    "output_type": "display_data",
                    "data": {
                        "text/html": "(5 rows affected)"
                    },
                    "metadata": {}
                },
                {
                    "output_type": "display_data",
                    "data": {
                        "text/html": "Total execution time: 00:00:00.069"
                    },
                    "metadata": {}
                },
                {
                    "output_type": "execute_result",
                    "metadata": {},
                    "execution_count": 8,
                    "data": {
                        "application/vnd.dataresource+json": {
                            "schema": {
                                "fields": [
                                    {
                                        "name": "CustomerID"
                                    },
                                    {
                                        "name": "(No column name)"
                                    }
                                ]
                            },
                            "data": [
                                {
                                    "0": "29722",
                                    "1": "954021.9235"
                                },
                                {
                                    "0": "30117",
                                    "1": "919801.8188"
                                },
                                {
                                    "0": "29614",
                                    "1": "901346.856"
                                },
                                {
                                    "0": "29818",
                                    "1": "989184.082"
                                },
                                {
                                    "0": "29715",
                                    "1": "961675.8596"
                                }
                            ]
                        },
                        "text/html": [
                            "<table>",
                            "<tr><th>CustomerID</th><th>(No column name)</th></tr>",
                            "<tr><td>29722</td><td>954021.9235</td></tr>",
                            "<tr><td>30117</td><td>919801.8188</td></tr>",
                            "<tr><td>29614</td><td>901346.856</td></tr>",
                            "<tr><td>29818</td><td>989184.082</td></tr>",
                            "<tr><td>29715</td><td>961675.8596</td></tr>",
                            "</table>"
                        ]
                    }
                }
            ],
            "execution_count": 8
        },
        {
            "cell_type": "markdown",
            "source": [
                "<span style=\"color: rgb(0, 0, 0); font-family: arial, helvetica, sans-serif; font-size: 13.3333px; background-color: rgb(244, 244, 244);\">6. Write a question&nbsp; that would require a query with ‘Having’ clause. Then write this query and run it to answer your question</span>"
            ],
            "metadata": {
                "azdata_cell_guid": "455f207a-4f9a-42f1-a593-e6d906373ee8"
            },
            "attachments": {}
        },
        {
            "cell_type": "code",
            "source": [
                "--to analyze number of customers purchased in each stores, and to select stores which have atleast 30000 number of customers.\r\n",
                "use AdventureWorks2019\r\n",
                "select StoreID, sum(CustomerID) as 'number of customers'\r\n",
                "from Sales.Customer\r\n",
                "Group by StoreID\r\n",
                "having sum(CustomerID)>=30000;"
            ],
            "metadata": {
                "azdata_cell_guid": "f3921a2b-d815-44d7-aefb-0d2d05341680",
                "language": "sql"
            },
            "outputs": [
                {
                    "output_type": "display_data",
                    "data": {
                        "text/html": "(424 rows affected)"
                    },
                    "metadata": {}
                },
                {
                    "output_type": "display_data",
                    "data": {
                        "text/html": "Total execution time: 00:00:00.021"
                    },
                    "metadata": {}
                },
                {
                    "output_type": "execute_result",
                    "metadata": {},
                    "execution_count": 18,
                    "data": {
                        "application/vnd.dataresource+json": {
                            "schema": {
                                "fields": [
                                    {
                                        "name": "StoreID"
                                    },
                                    {
                                        "name": "number of customers"
                                    }
                                ]
                            },
                            "data": [
                                {
                                    "0": "1234",
                                    "1": "30264"
                                },
                                {
                                    "0": "570",
                                    "1": "30042"
                                },
                                {
                                    "0": "902",
                                    "1": "30247"
                                },
                                {
                                    "0": "1898",
                                    "1": "30605"
                                },
                                {
                                    "0": "1472",
                                    "1": "30341"
                                },
                                {
                                    "0": "1804",
                                    "1": "30626"
                                },
                                {
                                    "0": "1374",
                                    "1": "30620"
                                },
                                {
                                    "0": "1042",
                                    "1": "30505"
                                },
                                {
                                    "0": "1188",
                                    "1": "30088"
                                },
                                {
                                    "0": "856",
                                    "1": "30184"
                                },
                                {
                                    "0": "1420",
                                    "1": "30225"
                                },
                                {
                                    "0": "1094",
                                    "1": "30454"
                                },
                                {
                                    "0": "1466",
                                    "1": "30532"
                                },
                                {
                                    "0": "1048",
                                    "1": "30499"
                                },
                                {
                                    "0": "802",
                                    "1": "30401"
                                },
                                {
                                    "0": "948",
                                    "1": "30060"
                                },
                                {
                                    "0": "670",
                                    "1": "30071"
                                },
                                {
                                    "0": "1844",
                                    "1": "30552"
                                },
                                {
                                    "0": "564",
                                    "1": "30031"
                                },
                                {
                                    "0": "908",
                                    "1": "30241"
                                },
                                {
                                    "0": "1904",
                                    "1": "30599"
                                },
                                {
                                    "0": "1950",
                                    "1": "30346"
                                },
                                {
                                    "0": "1938",
                                    "1": "30359"
                                },
                                {
                                    "0": "1990",
                                    "1": "30447"
                                },
                                {
                                    "0": "1798",
                                    "1": "30615"
                                },
                                {
                                    "0": "1944",
                                    "1": "30352"
                                },
                                {
                                    "0": "862",
                                    "1": "30196"
                                },
                                {
                                    "0": "1838",
                                    "1": "30540"
                                },
                                {
                                    "0": "344",
                                    "1": "30067"
                                },
                                {
                                    "0": "842",
                                    "1": "30428"
                                },
                                {
                                    "0": "1128",
                                    "1": "30488"
                                },
                                {
                                    "0": "1054",
                                    "1": "30493"
                                },
                                {
                                    "0": "1930",
                                    "1": "30367"
                                },
                                {
                                    "0": "1320",
                                    "1": "30064"
                                },
                                {
                                    "0": "1148",
                                    "1": "30110"
                                },
                                {
                                    "0": "656",
                                    "1": "30248"
                                },
                                {
                                    "0": "1812",
                                    "1": "30642"
                                },
                                {
                                    "0": "822",
                                    "1": "30388"
                                },
                                {
                                    "0": "1220",
                                    "1": "30280"
                                },
                                {
                                    "0": "1440",
                                    "1": "30561"
                                },
                                {
                                    "0": "848",
                                    "1": "30167"
                                },
                                {
                                    "0": "1832",
                                    "1": "30528"
                                },
                                {
                                    "0": "338",
                                    "1": "30069"
                                },
                                {
                                    "0": "836",
                                    "1": "30416"
                                },
                                {
                                    "0": "1228",
                                    "1": "30270"
                                },
                                {
                                    "0": "742",
                                    "1": "30065"
                                },
                                {
                                    "0": "1240",
                                    "1": "30461"
                                },
                                {
                                    "0": "1426",
                                    "1": "30237"
                                },
                                {
                                    "0": "1924",
                                    "1": "30534"
                                },
                                {
                                    "0": "1918",
                                    "1": "30542"
                                },
                                {
                                    "0": "1326",
                                    "1": "30076"
                                },
                                {
                                    "0": "1818",
                                    "1": "30654"
                                },
                                {
                                    "0": "1824",
                                    "1": "30665"
                                },
                                {
                                    "0": "1134",
                                    "1": "30124"
                                },
                                {
                                    "0": "1034",
                                    "1": "30513"
                                },
                                {
                                    "0": "736",
                                    "1": "30071"
                                },
                                {
                                    "0": "1068",
                                    "1": "30480"
                                },
                                {
                                    "0": "1400",
                                    "1": "30672"
                                },
                                {
                                    "0": "1114",
                                    "1": "30427"
                                },
                                {
                                    "0": "922",
                                    "1": "30226"
                                },
                                {
                                    "0": "876",
                                    "1": "30317"
                                },
                                {
                                    "0": "1346",
                                    "1": "30001"
                                },
                                {
                                    "0": "1168",
                                    "1": "30107"
                                },
                                {
                                    "0": "1406",
                                    "1": "30196"
                                },
                                {
                                    "0": "1062",
                                    "1": "30486"
                                },
                                {
                                    "0": "1300",
                                    "1": "30133"
                                },
                                {
                                    "0": "1214",
                                    "1": "30286"
                                },
                                {
                                    "0": "1260",
                                    "1": "30010"
                                },
                                {
                                    "0": "1254",
                                    "1": "30016"
                                },
                                {
                                    "0": "916",
                                    "1": "30233"
                                },
                                {
                                    "0": "1154",
                                    "1": "30104"
                                },
                                {
                                    "0": "1160",
                                    "1": "30306"
                                },
                                {
                                    "0": "318",
                                    "1": "30003"
                                },
                                {
                                    "0": "962",
                                    "1": "30321"
                                },
                                {
                                    "0": "1354",
                                    "1": "30016"
                                },
                                {
                                    "0": "1108",
                                    "1": "30256"
                                },
                                {
                                    "0": "1174",
                                    "1": "30103"
                                },
                                {
                                    "0": "510",
                                    "1": "30000"
                                },
                                {
                                    "0": "1460",
                                    "1": "30538"
                                },
                                {
                                    "0": "1386",
                                    "1": "30645"
                                },
                                {
                                    "0": "1864",
                                    "1": "30448"
                                },
                                {
                                    "0": "868",
                                    "1": "30207"
                                },
                                {
                                    "0": "1200",
                                    "1": "30374"
                                },
                                {
                                    "0": "1486",
                                    "1": "30327"
                                },
                                {
                                    "0": "1984",
                                    "1": "30453"
                                },
                                {
                                    "0": "1978",
                                    "1": "30459"
                                },
                                {
                                    "0": "484",
                                    "1": "30075"
                                },
                                {
                                    "0": "1884",
                                    "1": "30184"
                                },
                                {
                                    "0": "1294",
                                    "1": "30121"
                                },
                                {
                                    "0": "1958",
                                    "1": "30733"
                                },
                                {
                                    "0": "776",
                                    "1": "30007"
                                },
                                {
                                    "0": "1858",
                                    "1": "30436"
                                },
                                {
                                    "0": "1366",
                                    "1": "30604"
                                },
                                {
                                    "0": "896",
                                    "1": "30253"
                                },
                                {
                                    "0": "1074",
                                    "1": "30474"
                                },
                                {
                                    "0": "1878",
                                    "1": "30190"
                                },
                                {
                                    "0": "882",
                                    "1": "30329"
                                },
                                {
                                    "0": "292",
                                    "1": "30069"
                                },
                                {
                                    "0": "1964",
                                    "1": "30745"
                                },
                                {
                                    "0": "696",
                                    "1": "30080"
                                },
                                {
                                    "0": "596",
                                    "1": "30135"
                                },
                                {
                                    "0": "1088",
                                    "1": "30460"
                                },
                                {
                                    "0": "1480",
                                    "1": "30333"
                                },
                                {
                                    "0": "298",
                                    "1": "30063"
                                },
                                {
                                    "0": "888",
                                    "1": "30341"
                                },
                                {
                                    "0": "1970",
                                    "1": "30757"
                                },
                                {
                                    "0": "1380",
                                    "1": "30633"
                                },
                                {
                                    "0": "690",
                                    "1": "30068"
                                },
                                {
                                    "0": "1186",
                                    "1": "30090"
                                },
                                {
                                    "0": "854",
                                    "1": "30180"
                                },
                                {
                                    "0": "1850",
                                    "1": "30563"
                                },
                                {
                                    "0": "1424",
                                    "1": "30233"
                                },
                                {
                                    "0": "1092",
                                    "1": "30456"
                                },
                                {
                                    "0": "1140",
                                    "1": "30118"
                                },
                                {
                                    "0": "946",
                                    "1": "30062"
                                },
                                {
                                    "0": "330",
                                    "1": "30062"
                                },
                                {
                                    "0": "336",
                                    "1": "30069"
                                },
                                {
                                    "0": "900",
                                    "1": "30249"
                                },
                                {
                                    "0": "1046",
                                    "1": "30501"
                                },
                                {
                                    "0": "1856",
                                    "1": "30432"
                                },
                                {
                                    "0": "860",
                                    "1": "30192"
                                },
                                {
                                    "0": "754",
                                    "1": "30051"
                                },
                                {
                                    "0": "422",
                                    "1": "30209"
                                },
                                {
                                    "0": "1890",
                                    "1": "30180"
                                },
                                {
                                    "0": "562",
                                    "1": "30027"
                                },
                                {
                                    "0": "1902",
                                    "1": "30601"
                                },
                                {
                                    "0": "954",
                                    "1": "30306"
                                },
                                {
                                    "0": "668",
                                    "1": "30237"
                                },
                                {
                                    "0": "568",
                                    "1": "30044"
                                },
                                {
                                    "0": "1896",
                                    "1": "30607"
                                },
                                {
                                    "0": "960",
                                    "1": "30317"
                                },
                                {
                                    "0": "1796",
                                    "1": "30611"
                                },
                                {
                                    "0": "1412",
                                    "1": "30208"
                                },
                                {
                                    "0": "1910",
                                    "1": "30550"
                                },
                                {
                                    "0": "914",
                                    "1": "30235"
                                },
                                {
                                    "0": "1246",
                                    "1": "30457"
                                },
                                {
                                    "0": "1152",
                                    "1": "30106"
                                },
                                {
                                    "0": "1816",
                                    "1": "30650"
                                },
                                {
                                    "0": "536",
                                    "1": "30129"
                                },
                                {
                                    "0": "1126",
                                    "1": "30484"
                                },
                                {
                                    "0": "1936",
                                    "1": "30361"
                                },
                                {
                                    "0": "1438",
                                    "1": "30563"
                                },
                                {
                                    "0": "1836",
                                    "1": "30536"
                                },
                                {
                                    "0": "1318",
                                    "1": "30060"
                                },
                                {
                                    "0": "1146",
                                    "1": "30112"
                                },
                                {
                                    "0": "654",
                                    "1": "30244"
                                },
                                {
                                    "0": "1810",
                                    "1": "30638"
                                },
                                {
                                    "0": "350",
                                    "1": "30067"
                                },
                                {
                                    "0": "1418",
                                    "1": "30221"
                                },
                                {
                                    "0": "1916",
                                    "1": "30544"
                                },
                                {
                                    "0": "1238",
                                    "1": "30463"
                                },
                                {
                                    "0": "1040",
                                    "1": "30507"
                                },
                                {
                                    "0": "1432",
                                    "1": "30249"
                                },
                                {
                                    "0": "342",
                                    "1": "30069"
                                },
                                {
                                    "0": "834",
                                    "1": "30412"
                                },
                                {
                                    "0": "840",
                                    "1": "30424"
                                },
                                {
                                    "0": "1232",
                                    "1": "30266"
                                },
                                {
                                    "0": "1132",
                                    "1": "30126"
                                },
                                {
                                    "0": "1352",
                                    "1": "30012"
                                },
                                {
                                    "0": "1258",
                                    "1": "30012"
                                },
                                {
                                    "0": "926",
                                    "1": "30222"
                                },
                                {
                                    "0": "1066",
                                    "1": "30482"
                                },
                                {
                                    "0": "1398",
                                    "1": "30668"
                                },
                                {
                                    "0": "1876",
                                    "1": "30192"
                                },
                                {
                                    "0": "1212",
                                    "1": "30288"
                                },
                                {
                                    "0": "880",
                                    "1": "30325"
                                },
                                {
                                    "0": "780",
                                    "1": "30015"
                                },
                                {
                                    "0": "1444",
                                    "1": "30557"
                                },
                                {
                                    "0": "1166",
                                    "1": "30109"
                                },
                                {
                                    "0": "1830",
                                    "1": "30524"
                                },
                                {
                                    "0": "828",
                                    "1": "30400"
                                },
                                {
                                    "0": "974",
                                    "1": "30133"
                                },
                                {
                                    "0": "310",
                                    "1": "30041"
                                },
                                {
                                    "0": "874",
                                    "1": "30219"
                                },
                                {
                                    "0": "1120",
                                    "1": "30439"
                                },
                                {
                                    "0": "1358",
                                    "1": "30024"
                                },
                                {
                                    "0": "1252",
                                    "1": "30018"
                                },
                                {
                                    "0": "920",
                                    "1": "30228"
                                },
                                {
                                    "0": "1312",
                                    "1": "30048"
                                },
                                {
                                    "0": "316",
                                    "1": "30005"
                                },
                                {
                                    "0": "1298",
                                    "1": "30129"
                                },
                                {
                                    "0": "966",
                                    "1": "30118"
                                },
                                {
                                    "0": "1106",
                                    "1": "30258"
                                },
                                {
                                    "0": "1112",
                                    "1": "30423"
                                },
                                {
                                    "0": "1306",
                                    "1": "30145"
                                },
                                {
                                    "0": "1404",
                                    "1": "30192"
                                },
                                {
                                    "0": "1060",
                                    "1": "30486"
                                },
                                {
                                    "0": "1206",
                                    "1": "30295"
                                },
                                {
                                    "0": "1862",
                                    "1": "30444"
                                },
                                {
                                    "0": "1080",
                                    "1": "30468"
                                },
                                {
                                    "0": "1484",
                                    "1": "30329"
                                },
                                {
                                    "0": "488",
                                    "1": "30070"
                                },
                                {
                                    "0": "1458",
                                    "1": "30540"
                                },
                                {
                                    "0": "1266",
                                    "1": "30003"
                                },
                                {
                                    "0": "774",
                                    "1": "30003"
                                },
                                {
                                    "0": "602",
                                    "1": "30048"
                                },
                                {
                                    "0": "1100",
                                    "1": "30447"
                                },
                                {
                                    "0": "1172",
                                    "1": "30103"
                                },
                                {
                                    "0": "508",
                                    "1": "30002"
                                },
                                {
                                    "0": "1982",
                                    "1": "30455"
                                },
                                {
                                    "0": "482",
                                    "1": "30178"
                                },
                                {
                                    "0": "1392",
                                    "1": "30656"
                                },
                                {
                                    "0": "1882",
                                    "1": "30186"
                                },
                                {
                                    "0": "1292",
                                    "1": "30117"
                                },
                                {
                                    "0": "1956",
                                    "1": "30340"
                                },
                                {
                                    "0": "1464",
                                    "1": "30534"
                                },
                                {
                                    "0": "1192",
                                    "1": "30083"
                                },
                                {
                                    "0": "694",
                                    "1": "30076"
                                },
                                {
                                    "0": "1086",
                                    "1": "30462"
                                },
                                {
                                    "0": "894",
                                    "1": "30255"
                                },
                                {
                                    "0": "1976",
                                    "1": "30769"
                                },
                                {
                                    "0": "1962",
                                    "1": "30741"
                                },
                                {
                                    "0": "1372",
                                    "1": "30616"
                                },
                                {
                                    "0": "1478",
                                    "1": "30335"
                                },
                                {
                                    "0": "1870",
                                    "1": "30460"
                                },
                                {
                                    "0": "296",
                                    "1": "30065"
                                },
                                {
                                    "0": "1378",
                                    "1": "30628"
                                },
                                {
                                    "0": "1376",
                                    "1": "30624"
                                },
                                {
                                    "0": "1044",
                                    "1": "30503"
                                },
                                {
                                    "0": "1138",
                                    "1": "30120"
                                },
                                {
                                    "0": "1470",
                                    "1": "30343"
                                },
                                {
                                    "0": "1802",
                                    "1": "30622"
                                },
                                {
                                    "0": "952",
                                    "1": "30056"
                                },
                                {
                                    "0": "852",
                                    "1": "30176"
                                },
                                {
                                    "0": "334",
                                    "1": "30071"
                                },
                                {
                                    "0": "1144",
                                    "1": "30114"
                                },
                                {
                                    "0": "898",
                                    "1": "30251"
                                },
                                {
                                    "0": "1808",
                                    "1": "30634"
                                },
                                {
                                    "0": "480",
                                    "1": "30174"
                                },
                                {
                                    "0": "1940",
                                    "1": "30357"
                                },
                                {
                                    "0": "1988",
                                    "1": "30449"
                                },
                                {
                                    "0": "906",
                                    "1": "30243"
                                },
                                {
                                    "0": "328",
                                    "1": "30058"
                                },
                                {
                                    "0": "1052",
                                    "1": "30495"
                                },
                                {
                                    "0": "1948",
                                    "1": "30348"
                                },
                                {
                                    "0": "958",
                                    "1": "30313"
                                },
                                {
                                    "0": "858",
                                    "1": "30188"
                                },
                                {
                                    "0": "1842",
                                    "1": "30548"
                                },
                                {
                                    "0": "1994",
                                    "1": "30445"
                                },
                                {
                                    "0": "912",
                                    "1": "30237"
                                },
                                {
                                    "0": "666",
                                    "1": "30239"
                                },
                                {
                                    "0": "420",
                                    "1": "30205"
                                },
                                {
                                    "0": "1894",
                                    "1": "30176"
                                },
                                {
                                    "0": "566",
                                    "1": "30046"
                                },
                                {
                                    "0": "534",
                                    "1": "30125"
                                },
                                {
                                    "0": "1032",
                                    "1": "30515"
                                },
                                {
                                    "0": "1934",
                                    "1": "30363"
                                },
                                {
                                    "0": "1436",
                                    "1": "30565"
                                },
                                {
                                    "0": "1410",
                                    "1": "30204"
                                },
                                {
                                    "0": "746",
                                    "1": "30061"
                                },
                                {
                                    "0": "1224",
                                    "1": "30275"
                                },
                                {
                                    "0": "1814",
                                    "1": "30646"
                                },
                                {
                                    "0": "846",
                                    "1": "30163"
                                },
                                {
                                    "0": "1416",
                                    "1": "30217"
                                },
                                {
                                    "0": "752",
                                    "1": "30053"
                                },
                                {
                                    "0": "1834",
                                    "1": "30532"
                                },
                                {
                                    "0": "1244",
                                    "1": "30459"
                                },
                                {
                                    "0": "1316",
                                    "1": "30055"
                                },
                                {
                                    "0": "1218",
                                    "1": "30282"
                                },
                                {
                                    "0": "1038",
                                    "1": "30509"
                                },
                                {
                                    "0": "1430",
                                    "1": "30245"
                                },
                                {
                                    "0": "1928",
                                    "1": "30369"
                                },
                                {
                                    "0": "1324",
                                    "1": "30072"
                                },
                                {
                                    "0": "1914",
                                    "1": "30546"
                                },
                                {
                                    "0": "1330",
                                    "1": "30084"
                                },
                                {
                                    "0": "740",
                                    "1": "30067"
                                },
                                {
                                    "0": "1822",
                                    "1": "30661"
                                },
                                {
                                    "0": "1230",
                                    "1": "30268"
                                },
                                {
                                    "0": "640",
                                    "1": "30334"
                                },
                                {
                                    "0": "1874",
                                    "1": "30194"
                                },
                                {
                                    "0": "1210",
                                    "1": "30290"
                                },
                                {
                                    "0": "878",
                                    "1": "30321"
                                },
                                {
                                    "0": "1164",
                                    "1": "30302"
                                },
                                {
                                    "0": "1828",
                                    "1": "30520"
                                },
                                {
                                    "0": "832",
                                    "1": "30408"
                                },
                                {
                                    "0": "1118",
                                    "1": "30435"
                                },
                                {
                                    "0": "1490",
                                    "1": "30322"
                                },
                                {
                                    "0": "1072",
                                    "1": "30476"
                                },
                                {
                                    "0": "826",
                                    "1": "30396"
                                },
                                {
                                    "0": "972",
                                    "1": "30129"
                                },
                                {
                                    "0": "308",
                                    "1": "30036"
                                },
                                {
                                    "0": "872",
                                    "1": "30215"
                                },
                                {
                                    "0": "1204",
                                    "1": "30370"
                                },
                                {
                                    "0": "1250",
                                    "1": "30453"
                                },
                                {
                                    "0": "1310",
                                    "1": "30044"
                                },
                                {
                                    "0": "314",
                                    "1": "30049"
                                },
                                {
                                    "0": "1064",
                                    "1": "30484"
                                },
                                {
                                    "0": "1396",
                                    "1": "30664"
                                },
                                {
                                    "0": "1456",
                                    "1": "30542"
                                },
                                {
                                    "0": "1450",
                                    "1": "30549"
                                },
                                {
                                    "0": "1350",
                                    "1": "30008"
                                },
                                {
                                    "0": "1356",
                                    "1": "30020"
                                },
                                {
                                    "0": "1158",
                                    "1": "30100"
                                },
                                {
                                    "0": "1304",
                                    "1": "30141"
                                },
                                {
                                    "0": "NULL",
                                    "1": "374143886"
                                },
                                {
                                    "0": "1198",
                                    "1": "30376"
                                },
                                {
                                    "0": "1364",
                                    "1": "30600"
                                },
                                {
                                    "0": "1078",
                                    "1": "30470"
                                },
                                {
                                    "0": "1888",
                                    "1": "30180"
                                },
                                {
                                    "0": "1482",
                                    "1": "30331"
                                },
                                {
                                    "0": "892",
                                    "1": "30349"
                                },
                                {
                                    "0": "1954",
                                    "1": "30342"
                                },
                                {
                                    "0": "1960",
                                    "1": "30737"
                                },
                                {
                                    "0": "1170",
                                    "1": "30105"
                                },
                                {
                                    "0": "1980",
                                    "1": "30457"
                                },
                                {
                                    "0": "1868",
                                    "1": "30456"
                                },
                                {
                                    "0": "1370",
                                    "1": "30612"
                                },
                                {
                                    "0": "600",
                                    "1": "30050"
                                },
                                {
                                    "0": "1384",
                                    "1": "30641"
                                },
                                {
                                    "0": "294",
                                    "1": "30067"
                                },
                                {
                                    "0": "1184",
                                    "1": "30092"
                                },
                                {
                                    "0": "1178",
                                    "1": "30099"
                                },
                                {
                                    "0": "1084",
                                    "1": "30464"
                                },
                                {
                                    "0": "1476",
                                    "1": "30337"
                                },
                                {
                                    "0": "886",
                                    "1": "30337"
                                },
                                {
                                    "0": "1968",
                                    "1": "30753"
                                },
                                {
                                    "0": "1946",
                                    "1": "30350"
                                },
                                {
                                    "0": "950",
                                    "1": "30058"
                                },
                                {
                                    "0": "1422",
                                    "1": "30229"
                                },
                                {
                                    "0": "1852",
                                    "1": "30425"
                                },
                                {
                                    "0": "1090",
                                    "1": "30458"
                                },
                                {
                                    "0": "1236",
                                    "1": "30262"
                                },
                                {
                                    "0": "904",
                                    "1": "30245"
                                },
                                {
                                    "0": "1900",
                                    "1": "30603"
                                },
                                {
                                    "0": "1142",
                                    "1": "30116"
                                },
                                {
                                    "0": "1468",
                                    "1": "30530"
                                },
                                {
                                    "0": "1806",
                                    "1": "30630"
                                },
                                {
                                    "0": "478",
                                    "1": "30170"
                                },
                                {
                                    "0": "850",
                                    "1": "30172"
                                },
                                {
                                    "0": "1096",
                                    "1": "30452"
                                },
                                {
                                    "0": "332",
                                    "1": "30073"
                                },
                                {
                                    "0": "1892",
                                    "1": "30178"
                                },
                                {
                                    "0": "1050",
                                    "1": "30497"
                                },
                                {
                                    "0": "1952",
                                    "1": "30344"
                                },
                                {
                                    "0": "672",
                                    "1": "30069"
                                },
                                {
                                    "0": "1986",
                                    "1": "30451"
                                },
                                {
                                    "0": "864",
                                    "1": "30200"
                                },
                                {
                                    "0": "1846",
                                    "1": "30556"
                                },
                                {
                                    "0": "1992",
                                    "1": "30445"
                                },
                                {
                                    "0": "910",
                                    "1": "30239"
                                },
                                {
                                    "0": "664",
                                    "1": "30241"
                                },
                                {
                                    "0": "1056",
                                    "1": "30491"
                                },
                                {
                                    "0": "1434",
                                    "1": "30253"
                                },
                                {
                                    "0": "1840",
                                    "1": "30544"
                                },
                                {
                                    "0": "844",
                                    "1": "30431"
                                },
                                {
                                    "0": "1150",
                                    "1": "30108"
                                },
                                {
                                    "0": "1912",
                                    "1": "30548"
                                },
                                {
                                    "0": "1248",
                                    "1": "30455"
                                },
                                {
                                    "0": "1932",
                                    "1": "30365"
                                },
                                {
                                    "0": "1414",
                                    "1": "30213"
                                },
                                {
                                    "0": "1906",
                                    "1": "30597"
                                },
                                {
                                    "0": "1242",
                                    "1": "30459"
                                },
                                {
                                    "0": "652",
                                    "1": "30240"
                                },
                                {
                                    "0": "824",
                                    "1": "30392"
                                },
                                {
                                    "0": "944",
                                    "1": "30064"
                                },
                                {
                                    "0": "1122",
                                    "1": "30477"
                                },
                                {
                                    "0": "1926",
                                    "1": "30532"
                                },
                                {
                                    "0": "352",
                                    "1": "30025"
                                },
                                {
                                    "0": "340",
                                    "1": "30073"
                                },
                                {
                                    "0": "1322",
                                    "1": "30068"
                                },
                                {
                                    "0": "744",
                                    "1": "30063"
                                },
                                {
                                    "0": "1136",
                                    "1": "30122"
                                },
                                {
                                    "0": "1130",
                                    "1": "30492"
                                },
                                {
                                    "0": "638",
                                    "1": "30330"
                                },
                                {
                                    "0": "1036",
                                    "1": "30511"
                                },
                                {
                                    "0": "1030",
                                    "1": "30517"
                                },
                                {
                                    "0": "1428",
                                    "1": "30241"
                                },
                                {
                                    "0": "346",
                                    "1": "30079"
                                },
                                {
                                    "0": "838",
                                    "1": "30420"
                                },
                                {
                                    "0": "1328",
                                    "1": "30080"
                                },
                                {
                                    "0": "738",
                                    "1": "30069"
                                },
                                {
                                    "0": "1448",
                                    "1": "30551"
                                },
                                {
                                    "0": "1116",
                                    "1": "30431"
                                },
                                {
                                    "0": "1162",
                                    "1": "30304"
                                },
                                {
                                    "0": "1826",
                                    "1": "30669"
                                },
                                {
                                    "0": "830",
                                    "1": "30404"
                                },
                                {
                                    "0": "970",
                                    "1": "30125"
                                },
                                {
                                    "0": "976",
                                    "1": "30137"
                                },
                                {
                                    "0": "312",
                                    "1": "30045"
                                },
                                {
                                    "0": "924",
                                    "1": "30224"
                                },
                                {
                                    "0": "1070",
                                    "1": "30478"
                                },
                                {
                                    "0": "1216",
                                    "1": "30284"
                                },
                                {
                                    "0": "1394",
                                    "1": "30660"
                                },
                                {
                                    "0": "1110",
                                    "1": "30254"
                                },
                                {
                                    "0": "1454",
                                    "1": "30544"
                                },
                                {
                                    "0": "1442",
                                    "1": "30559"
                                },
                                {
                                    "0": "1262",
                                    "1": "30008"
                                },
                                {
                                    "0": "1408",
                                    "1": "30200"
                                },
                                {
                                    "0": "1308",
                                    "1": "30040"
                                },
                                {
                                    "0": "1302",
                                    "1": "30137"
                                },
                                {
                                    "0": "964",
                                    "1": "30113"
                                },
                                {
                                    "0": "1202",
                                    "1": "30372"
                                },
                                {
                                    "0": "1256",
                                    "1": "30014"
                                },
                                {
                                    "0": "1156",
                                    "1": "30102"
                                },
                                {
                                    "0": "320",
                                    "1": "30001"
                                },
                                {
                                    "0": "1886",
                                    "1": "30182"
                                },
                                {
                                    "0": "890",
                                    "1": "30345"
                                },
                                {
                                    "0": "1388",
                                    "1": "30649"
                                },
                                {
                                    "0": "1176",
                                    "1": "30101"
                                },
                                {
                                    "0": "1102",
                                    "1": "30263"
                                },
                                {
                                    "0": "1296",
                                    "1": "30125"
                                },
                                {
                                    "0": "1462",
                                    "1": "30536"
                                },
                                {
                                    "0": "1362",
                                    "1": "30031"
                                },
                                {
                                    "0": "1196",
                                    "1": "30078"
                                },
                                {
                                    "0": "1860",
                                    "1": "30440"
                                },
                                {
                                    "0": "698",
                                    "1": "30084"
                                },
                                {
                                    "0": "870",
                                    "1": "30211"
                                },
                                {
                                    "0": "1368",
                                    "1": "30608"
                                },
                                {
                                    "0": "1880",
                                    "1": "30188"
                                },
                                {
                                    "0": "884",
                                    "1": "30333"
                                },
                                {
                                    "0": "1382",
                                    "1": "30637"
                                },
                                {
                                    "0": "778",
                                    "1": "30011"
                                },
                                {
                                    "0": "598",
                                    "1": "30052"
                                },
                                {
                                    "0": "1076",
                                    "1": "30472"
                                },
                                {
                                    "0": "1474",
                                    "1": "30339"
                                },
                                {
                                    "0": "300",
                                    "1": "30061"
                                },
                                {
                                    "0": "1966",
                                    "1": "30749"
                                },
                                {
                                    "0": "1972",
                                    "1": "30761"
                                },
                                {
                                    "0": "1872",
                                    "1": "30196"
                                },
                                {
                                    "0": "1866",
                                    "1": "30452"
                                },
                                {
                                    "0": "692",
                                    "1": "30072"
                                },
                                {
                                    "0": "1182",
                                    "1": "30094"
                                },
                                {
                                    "0": "592",
                                    "1": "30128"
                                },
                                {
                                    "0": "1082",
                                    "1": "30466"
                                }
                            ]
                        },
                        "text/html": [
                            "<table>",
                            "<tr><th>StoreID</th><th>number of customers</th></tr>",
                            "<tr><td>1234</td><td>30264</td></tr>",
                            "<tr><td>570</td><td>30042</td></tr>",
                            "<tr><td>902</td><td>30247</td></tr>",
                            "<tr><td>1898</td><td>30605</td></tr>",
                            "<tr><td>1472</td><td>30341</td></tr>",
                            "<tr><td>1804</td><td>30626</td></tr>",
                            "<tr><td>1374</td><td>30620</td></tr>",
                            "<tr><td>1042</td><td>30505</td></tr>",
                            "<tr><td>1188</td><td>30088</td></tr>",
                            "<tr><td>856</td><td>30184</td></tr>",
                            "<tr><td>1420</td><td>30225</td></tr>",
                            "<tr><td>1094</td><td>30454</td></tr>",
                            "<tr><td>1466</td><td>30532</td></tr>",
                            "<tr><td>1048</td><td>30499</td></tr>",
                            "<tr><td>802</td><td>30401</td></tr>",
                            "<tr><td>948</td><td>30060</td></tr>",
                            "<tr><td>670</td><td>30071</td></tr>",
                            "<tr><td>1844</td><td>30552</td></tr>",
                            "<tr><td>564</td><td>30031</td></tr>",
                            "<tr><td>908</td><td>30241</td></tr>",
                            "<tr><td>1904</td><td>30599</td></tr>",
                            "<tr><td>1950</td><td>30346</td></tr>",
                            "<tr><td>1938</td><td>30359</td></tr>",
                            "<tr><td>1990</td><td>30447</td></tr>",
                            "<tr><td>1798</td><td>30615</td></tr>",
                            "<tr><td>1944</td><td>30352</td></tr>",
                            "<tr><td>862</td><td>30196</td></tr>",
                            "<tr><td>1838</td><td>30540</td></tr>",
                            "<tr><td>344</td><td>30067</td></tr>",
                            "<tr><td>842</td><td>30428</td></tr>",
                            "<tr><td>1128</td><td>30488</td></tr>",
                            "<tr><td>1054</td><td>30493</td></tr>",
                            "<tr><td>1930</td><td>30367</td></tr>",
                            "<tr><td>1320</td><td>30064</td></tr>",
                            "<tr><td>1148</td><td>30110</td></tr>",
                            "<tr><td>656</td><td>30248</td></tr>",
                            "<tr><td>1812</td><td>30642</td></tr>",
                            "<tr><td>822</td><td>30388</td></tr>",
                            "<tr><td>1220</td><td>30280</td></tr>",
                            "<tr><td>1440</td><td>30561</td></tr>",
                            "<tr><td>848</td><td>30167</td></tr>",
                            "<tr><td>1832</td><td>30528</td></tr>",
                            "<tr><td>338</td><td>30069</td></tr>",
                            "<tr><td>836</td><td>30416</td></tr>",
                            "<tr><td>1228</td><td>30270</td></tr>",
                            "<tr><td>742</td><td>30065</td></tr>",
                            "<tr><td>1240</td><td>30461</td></tr>",
                            "<tr><td>1426</td><td>30237</td></tr>",
                            "<tr><td>1924</td><td>30534</td></tr>",
                            "<tr><td>1918</td><td>30542</td></tr>",
                            "<tr><td>1326</td><td>30076</td></tr>",
                            "<tr><td>1818</td><td>30654</td></tr>",
                            "<tr><td>1824</td><td>30665</td></tr>",
                            "<tr><td>1134</td><td>30124</td></tr>",
                            "<tr><td>1034</td><td>30513</td></tr>",
                            "<tr><td>736</td><td>30071</td></tr>",
                            "<tr><td>1068</td><td>30480</td></tr>",
                            "<tr><td>1400</td><td>30672</td></tr>",
                            "<tr><td>1114</td><td>30427</td></tr>",
                            "<tr><td>922</td><td>30226</td></tr>",
                            "<tr><td>876</td><td>30317</td></tr>",
                            "<tr><td>1346</td><td>30001</td></tr>",
                            "<tr><td>1168</td><td>30107</td></tr>",
                            "<tr><td>1406</td><td>30196</td></tr>",
                            "<tr><td>1062</td><td>30486</td></tr>",
                            "<tr><td>1300</td><td>30133</td></tr>",
                            "<tr><td>1214</td><td>30286</td></tr>",
                            "<tr><td>1260</td><td>30010</td></tr>",
                            "<tr><td>1254</td><td>30016</td></tr>",
                            "<tr><td>916</td><td>30233</td></tr>",
                            "<tr><td>1154</td><td>30104</td></tr>",
                            "<tr><td>1160</td><td>30306</td></tr>",
                            "<tr><td>318</td><td>30003</td></tr>",
                            "<tr><td>962</td><td>30321</td></tr>",
                            "<tr><td>1354</td><td>30016</td></tr>",
                            "<tr><td>1108</td><td>30256</td></tr>",
                            "<tr><td>1174</td><td>30103</td></tr>",
                            "<tr><td>510</td><td>30000</td></tr>",
                            "<tr><td>1460</td><td>30538</td></tr>",
                            "<tr><td>1386</td><td>30645</td></tr>",
                            "<tr><td>1864</td><td>30448</td></tr>",
                            "<tr><td>868</td><td>30207</td></tr>",
                            "<tr><td>1200</td><td>30374</td></tr>",
                            "<tr><td>1486</td><td>30327</td></tr>",
                            "<tr><td>1984</td><td>30453</td></tr>",
                            "<tr><td>1978</td><td>30459</td></tr>",
                            "<tr><td>484</td><td>30075</td></tr>",
                            "<tr><td>1884</td><td>30184</td></tr>",
                            "<tr><td>1294</td><td>30121</td></tr>",
                            "<tr><td>1958</td><td>30733</td></tr>",
                            "<tr><td>776</td><td>30007</td></tr>",
                            "<tr><td>1858</td><td>30436</td></tr>",
                            "<tr><td>1366</td><td>30604</td></tr>",
                            "<tr><td>896</td><td>30253</td></tr>",
                            "<tr><td>1074</td><td>30474</td></tr>",
                            "<tr><td>1878</td><td>30190</td></tr>",
                            "<tr><td>882</td><td>30329</td></tr>",
                            "<tr><td>292</td><td>30069</td></tr>",
                            "<tr><td>1964</td><td>30745</td></tr>",
                            "<tr><td>696</td><td>30080</td></tr>",
                            "<tr><td>596</td><td>30135</td></tr>",
                            "<tr><td>1088</td><td>30460</td></tr>",
                            "<tr><td>1480</td><td>30333</td></tr>",
                            "<tr><td>298</td><td>30063</td></tr>",
                            "<tr><td>888</td><td>30341</td></tr>",
                            "<tr><td>1970</td><td>30757</td></tr>",
                            "<tr><td>1380</td><td>30633</td></tr>",
                            "<tr><td>690</td><td>30068</td></tr>",
                            "<tr><td>1186</td><td>30090</td></tr>",
                            "<tr><td>854</td><td>30180</td></tr>",
                            "<tr><td>1850</td><td>30563</td></tr>",
                            "<tr><td>1424</td><td>30233</td></tr>",
                            "<tr><td>1092</td><td>30456</td></tr>",
                            "<tr><td>1140</td><td>30118</td></tr>",
                            "<tr><td>946</td><td>30062</td></tr>",
                            "<tr><td>330</td><td>30062</td></tr>",
                            "<tr><td>336</td><td>30069</td></tr>",
                            "<tr><td>900</td><td>30249</td></tr>",
                            "<tr><td>1046</td><td>30501</td></tr>",
                            "<tr><td>1856</td><td>30432</td></tr>",
                            "<tr><td>860</td><td>30192</td></tr>",
                            "<tr><td>754</td><td>30051</td></tr>",
                            "<tr><td>422</td><td>30209</td></tr>",
                            "<tr><td>1890</td><td>30180</td></tr>",
                            "<tr><td>562</td><td>30027</td></tr>",
                            "<tr><td>1902</td><td>30601</td></tr>",
                            "<tr><td>954</td><td>30306</td></tr>",
                            "<tr><td>668</td><td>30237</td></tr>",
                            "<tr><td>568</td><td>30044</td></tr>",
                            "<tr><td>1896</td><td>30607</td></tr>",
                            "<tr><td>960</td><td>30317</td></tr>",
                            "<tr><td>1796</td><td>30611</td></tr>",
                            "<tr><td>1412</td><td>30208</td></tr>",
                            "<tr><td>1910</td><td>30550</td></tr>",
                            "<tr><td>914</td><td>30235</td></tr>",
                            "<tr><td>1246</td><td>30457</td></tr>",
                            "<tr><td>1152</td><td>30106</td></tr>",
                            "<tr><td>1816</td><td>30650</td></tr>",
                            "<tr><td>536</td><td>30129</td></tr>",
                            "<tr><td>1126</td><td>30484</td></tr>",
                            "<tr><td>1936</td><td>30361</td></tr>",
                            "<tr><td>1438</td><td>30563</td></tr>",
                            "<tr><td>1836</td><td>30536</td></tr>",
                            "<tr><td>1318</td><td>30060</td></tr>",
                            "<tr><td>1146</td><td>30112</td></tr>",
                            "<tr><td>654</td><td>30244</td></tr>",
                            "<tr><td>1810</td><td>30638</td></tr>",
                            "<tr><td>350</td><td>30067</td></tr>",
                            "<tr><td>1418</td><td>30221</td></tr>",
                            "<tr><td>1916</td><td>30544</td></tr>",
                            "<tr><td>1238</td><td>30463</td></tr>",
                            "<tr><td>1040</td><td>30507</td></tr>",
                            "<tr><td>1432</td><td>30249</td></tr>",
                            "<tr><td>342</td><td>30069</td></tr>",
                            "<tr><td>834</td><td>30412</td></tr>",
                            "<tr><td>840</td><td>30424</td></tr>",
                            "<tr><td>1232</td><td>30266</td></tr>",
                            "<tr><td>1132</td><td>30126</td></tr>",
                            "<tr><td>1352</td><td>30012</td></tr>",
                            "<tr><td>1258</td><td>30012</td></tr>",
                            "<tr><td>926</td><td>30222</td></tr>",
                            "<tr><td>1066</td><td>30482</td></tr>",
                            "<tr><td>1398</td><td>30668</td></tr>",
                            "<tr><td>1876</td><td>30192</td></tr>",
                            "<tr><td>1212</td><td>30288</td></tr>",
                            "<tr><td>880</td><td>30325</td></tr>",
                            "<tr><td>780</td><td>30015</td></tr>",
                            "<tr><td>1444</td><td>30557</td></tr>",
                            "<tr><td>1166</td><td>30109</td></tr>",
                            "<tr><td>1830</td><td>30524</td></tr>",
                            "<tr><td>828</td><td>30400</td></tr>",
                            "<tr><td>974</td><td>30133</td></tr>",
                            "<tr><td>310</td><td>30041</td></tr>",
                            "<tr><td>874</td><td>30219</td></tr>",
                            "<tr><td>1120</td><td>30439</td></tr>",
                            "<tr><td>1358</td><td>30024</td></tr>",
                            "<tr><td>1252</td><td>30018</td></tr>",
                            "<tr><td>920</td><td>30228</td></tr>",
                            "<tr><td>1312</td><td>30048</td></tr>",
                            "<tr><td>316</td><td>30005</td></tr>",
                            "<tr><td>1298</td><td>30129</td></tr>",
                            "<tr><td>966</td><td>30118</td></tr>",
                            "<tr><td>1106</td><td>30258</td></tr>",
                            "<tr><td>1112</td><td>30423</td></tr>",
                            "<tr><td>1306</td><td>30145</td></tr>",
                            "<tr><td>1404</td><td>30192</td></tr>",
                            "<tr><td>1060</td><td>30486</td></tr>",
                            "<tr><td>1206</td><td>30295</td></tr>",
                            "<tr><td>1862</td><td>30444</td></tr>",
                            "<tr><td>1080</td><td>30468</td></tr>",
                            "<tr><td>1484</td><td>30329</td></tr>",
                            "<tr><td>488</td><td>30070</td></tr>",
                            "<tr><td>1458</td><td>30540</td></tr>",
                            "<tr><td>1266</td><td>30003</td></tr>",
                            "<tr><td>774</td><td>30003</td></tr>",
                            "<tr><td>602</td><td>30048</td></tr>",
                            "<tr><td>1100</td><td>30447</td></tr>",
                            "<tr><td>1172</td><td>30103</td></tr>",
                            "<tr><td>508</td><td>30002</td></tr>",
                            "<tr><td>1982</td><td>30455</td></tr>",
                            "<tr><td>482</td><td>30178</td></tr>",
                            "<tr><td>1392</td><td>30656</td></tr>",
                            "<tr><td>1882</td><td>30186</td></tr>",
                            "<tr><td>1292</td><td>30117</td></tr>",
                            "<tr><td>1956</td><td>30340</td></tr>",
                            "<tr><td>1464</td><td>30534</td></tr>",
                            "<tr><td>1192</td><td>30083</td></tr>",
                            "<tr><td>694</td><td>30076</td></tr>",
                            "<tr><td>1086</td><td>30462</td></tr>",
                            "<tr><td>894</td><td>30255</td></tr>",
                            "<tr><td>1976</td><td>30769</td></tr>",
                            "<tr><td>1962</td><td>30741</td></tr>",
                            "<tr><td>1372</td><td>30616</td></tr>",
                            "<tr><td>1478</td><td>30335</td></tr>",
                            "<tr><td>1870</td><td>30460</td></tr>",
                            "<tr><td>296</td><td>30065</td></tr>",
                            "<tr><td>1378</td><td>30628</td></tr>",
                            "<tr><td>1376</td><td>30624</td></tr>",
                            "<tr><td>1044</td><td>30503</td></tr>",
                            "<tr><td>1138</td><td>30120</td></tr>",
                            "<tr><td>1470</td><td>30343</td></tr>",
                            "<tr><td>1802</td><td>30622</td></tr>",
                            "<tr><td>952</td><td>30056</td></tr>",
                            "<tr><td>852</td><td>30176</td></tr>",
                            "<tr><td>334</td><td>30071</td></tr>",
                            "<tr><td>1144</td><td>30114</td></tr>",
                            "<tr><td>898</td><td>30251</td></tr>",
                            "<tr><td>1808</td><td>30634</td></tr>",
                            "<tr><td>480</td><td>30174</td></tr>",
                            "<tr><td>1940</td><td>30357</td></tr>",
                            "<tr><td>1988</td><td>30449</td></tr>",
                            "<tr><td>906</td><td>30243</td></tr>",
                            "<tr><td>328</td><td>30058</td></tr>",
                            "<tr><td>1052</td><td>30495</td></tr>",
                            "<tr><td>1948</td><td>30348</td></tr>",
                            "<tr><td>958</td><td>30313</td></tr>",
                            "<tr><td>858</td><td>30188</td></tr>",
                            "<tr><td>1842</td><td>30548</td></tr>",
                            "<tr><td>1994</td><td>30445</td></tr>",
                            "<tr><td>912</td><td>30237</td></tr>",
                            "<tr><td>666</td><td>30239</td></tr>",
                            "<tr><td>420</td><td>30205</td></tr>",
                            "<tr><td>1894</td><td>30176</td></tr>",
                            "<tr><td>566</td><td>30046</td></tr>",
                            "<tr><td>534</td><td>30125</td></tr>",
                            "<tr><td>1032</td><td>30515</td></tr>",
                            "<tr><td>1934</td><td>30363</td></tr>",
                            "<tr><td>1436</td><td>30565</td></tr>",
                            "<tr><td>1410</td><td>30204</td></tr>",
                            "<tr><td>746</td><td>30061</td></tr>",
                            "<tr><td>1224</td><td>30275</td></tr>",
                            "<tr><td>1814</td><td>30646</td></tr>",
                            "<tr><td>846</td><td>30163</td></tr>",
                            "<tr><td>1416</td><td>30217</td></tr>",
                            "<tr><td>752</td><td>30053</td></tr>",
                            "<tr><td>1834</td><td>30532</td></tr>",
                            "<tr><td>1244</td><td>30459</td></tr>",
                            "<tr><td>1316</td><td>30055</td></tr>",
                            "<tr><td>1218</td><td>30282</td></tr>",
                            "<tr><td>1038</td><td>30509</td></tr>",
                            "<tr><td>1430</td><td>30245</td></tr>",
                            "<tr><td>1928</td><td>30369</td></tr>",
                            "<tr><td>1324</td><td>30072</td></tr>",
                            "<tr><td>1914</td><td>30546</td></tr>",
                            "<tr><td>1330</td><td>30084</td></tr>",
                            "<tr><td>740</td><td>30067</td></tr>",
                            "<tr><td>1822</td><td>30661</td></tr>",
                            "<tr><td>1230</td><td>30268</td></tr>",
                            "<tr><td>640</td><td>30334</td></tr>",
                            "<tr><td>1874</td><td>30194</td></tr>",
                            "<tr><td>1210</td><td>30290</td></tr>",
                            "<tr><td>878</td><td>30321</td></tr>",
                            "<tr><td>1164</td><td>30302</td></tr>",
                            "<tr><td>1828</td><td>30520</td></tr>",
                            "<tr><td>832</td><td>30408</td></tr>",
                            "<tr><td>1118</td><td>30435</td></tr>",
                            "<tr><td>1490</td><td>30322</td></tr>",
                            "<tr><td>1072</td><td>30476</td></tr>",
                            "<tr><td>826</td><td>30396</td></tr>",
                            "<tr><td>972</td><td>30129</td></tr>",
                            "<tr><td>308</td><td>30036</td></tr>",
                            "<tr><td>872</td><td>30215</td></tr>",
                            "<tr><td>1204</td><td>30370</td></tr>",
                            "<tr><td>1250</td><td>30453</td></tr>",
                            "<tr><td>1310</td><td>30044</td></tr>",
                            "<tr><td>314</td><td>30049</td></tr>",
                            "<tr><td>1064</td><td>30484</td></tr>",
                            "<tr><td>1396</td><td>30664</td></tr>",
                            "<tr><td>1456</td><td>30542</td></tr>",
                            "<tr><td>1450</td><td>30549</td></tr>",
                            "<tr><td>1350</td><td>30008</td></tr>",
                            "<tr><td>1356</td><td>30020</td></tr>",
                            "<tr><td>1158</td><td>30100</td></tr>",
                            "<tr><td>1304</td><td>30141</td></tr>",
                            "<tr><td>NULL</td><td>374143886</td></tr>",
                            "<tr><td>1198</td><td>30376</td></tr>",
                            "<tr><td>1364</td><td>30600</td></tr>",
                            "<tr><td>1078</td><td>30470</td></tr>",
                            "<tr><td>1888</td><td>30180</td></tr>",
                            "<tr><td>1482</td><td>30331</td></tr>",
                            "<tr><td>892</td><td>30349</td></tr>",
                            "<tr><td>1954</td><td>30342</td></tr>",
                            "<tr><td>1960</td><td>30737</td></tr>",
                            "<tr><td>1170</td><td>30105</td></tr>",
                            "<tr><td>1980</td><td>30457</td></tr>",
                            "<tr><td>1868</td><td>30456</td></tr>",
                            "<tr><td>1370</td><td>30612</td></tr>",
                            "<tr><td>600</td><td>30050</td></tr>",
                            "<tr><td>1384</td><td>30641</td></tr>",
                            "<tr><td>294</td><td>30067</td></tr>",
                            "<tr><td>1184</td><td>30092</td></tr>",
                            "<tr><td>1178</td><td>30099</td></tr>",
                            "<tr><td>1084</td><td>30464</td></tr>",
                            "<tr><td>1476</td><td>30337</td></tr>",
                            "<tr><td>886</td><td>30337</td></tr>",
                            "<tr><td>1968</td><td>30753</td></tr>",
                            "<tr><td>1946</td><td>30350</td></tr>",
                            "<tr><td>950</td><td>30058</td></tr>",
                            "<tr><td>1422</td><td>30229</td></tr>",
                            "<tr><td>1852</td><td>30425</td></tr>",
                            "<tr><td>1090</td><td>30458</td></tr>",
                            "<tr><td>1236</td><td>30262</td></tr>",
                            "<tr><td>904</td><td>30245</td></tr>",
                            "<tr><td>1900</td><td>30603</td></tr>",
                            "<tr><td>1142</td><td>30116</td></tr>",
                            "<tr><td>1468</td><td>30530</td></tr>",
                            "<tr><td>1806</td><td>30630</td></tr>",
                            "<tr><td>478</td><td>30170</td></tr>",
                            "<tr><td>850</td><td>30172</td></tr>",
                            "<tr><td>1096</td><td>30452</td></tr>",
                            "<tr><td>332</td><td>30073</td></tr>",
                            "<tr><td>1892</td><td>30178</td></tr>",
                            "<tr><td>1050</td><td>30497</td></tr>",
                            "<tr><td>1952</td><td>30344</td></tr>",
                            "<tr><td>672</td><td>30069</td></tr>",
                            "<tr><td>1986</td><td>30451</td></tr>",
                            "<tr><td>864</td><td>30200</td></tr>",
                            "<tr><td>1846</td><td>30556</td></tr>",
                            "<tr><td>1992</td><td>30445</td></tr>",
                            "<tr><td>910</td><td>30239</td></tr>",
                            "<tr><td>664</td><td>30241</td></tr>",
                            "<tr><td>1056</td><td>30491</td></tr>",
                            "<tr><td>1434</td><td>30253</td></tr>",
                            "<tr><td>1840</td><td>30544</td></tr>",
                            "<tr><td>844</td><td>30431</td></tr>",
                            "<tr><td>1150</td><td>30108</td></tr>",
                            "<tr><td>1912</td><td>30548</td></tr>",
                            "<tr><td>1248</td><td>30455</td></tr>",
                            "<tr><td>1932</td><td>30365</td></tr>",
                            "<tr><td>1414</td><td>30213</td></tr>",
                            "<tr><td>1906</td><td>30597</td></tr>",
                            "<tr><td>1242</td><td>30459</td></tr>",
                            "<tr><td>652</td><td>30240</td></tr>",
                            "<tr><td>824</td><td>30392</td></tr>",
                            "<tr><td>944</td><td>30064</td></tr>",
                            "<tr><td>1122</td><td>30477</td></tr>",
                            "<tr><td>1926</td><td>30532</td></tr>",
                            "<tr><td>352</td><td>30025</td></tr>",
                            "<tr><td>340</td><td>30073</td></tr>",
                            "<tr><td>1322</td><td>30068</td></tr>",
                            "<tr><td>744</td><td>30063</td></tr>",
                            "<tr><td>1136</td><td>30122</td></tr>",
                            "<tr><td>1130</td><td>30492</td></tr>",
                            "<tr><td>638</td><td>30330</td></tr>",
                            "<tr><td>1036</td><td>30511</td></tr>",
                            "<tr><td>1030</td><td>30517</td></tr>",
                            "<tr><td>1428</td><td>30241</td></tr>",
                            "<tr><td>346</td><td>30079</td></tr>",
                            "<tr><td>838</td><td>30420</td></tr>",
                            "<tr><td>1328</td><td>30080</td></tr>",
                            "<tr><td>738</td><td>30069</td></tr>",
                            "<tr><td>1448</td><td>30551</td></tr>",
                            "<tr><td>1116</td><td>30431</td></tr>",
                            "<tr><td>1162</td><td>30304</td></tr>",
                            "<tr><td>1826</td><td>30669</td></tr>",
                            "<tr><td>830</td><td>30404</td></tr>",
                            "<tr><td>970</td><td>30125</td></tr>",
                            "<tr><td>976</td><td>30137</td></tr>",
                            "<tr><td>312</td><td>30045</td></tr>",
                            "<tr><td>924</td><td>30224</td></tr>",
                            "<tr><td>1070</td><td>30478</td></tr>",
                            "<tr><td>1216</td><td>30284</td></tr>",
                            "<tr><td>1394</td><td>30660</td></tr>",
                            "<tr><td>1110</td><td>30254</td></tr>",
                            "<tr><td>1454</td><td>30544</td></tr>",
                            "<tr><td>1442</td><td>30559</td></tr>",
                            "<tr><td>1262</td><td>30008</td></tr>",
                            "<tr><td>1408</td><td>30200</td></tr>",
                            "<tr><td>1308</td><td>30040</td></tr>",
                            "<tr><td>1302</td><td>30137</td></tr>",
                            "<tr><td>964</td><td>30113</td></tr>",
                            "<tr><td>1202</td><td>30372</td></tr>",
                            "<tr><td>1256</td><td>30014</td></tr>",
                            "<tr><td>1156</td><td>30102</td></tr>",
                            "<tr><td>320</td><td>30001</td></tr>",
                            "<tr><td>1886</td><td>30182</td></tr>",
                            "<tr><td>890</td><td>30345</td></tr>",
                            "<tr><td>1388</td><td>30649</td></tr>",
                            "<tr><td>1176</td><td>30101</td></tr>",
                            "<tr><td>1102</td><td>30263</td></tr>",
                            "<tr><td>1296</td><td>30125</td></tr>",
                            "<tr><td>1462</td><td>30536</td></tr>",
                            "<tr><td>1362</td><td>30031</td></tr>",
                            "<tr><td>1196</td><td>30078</td></tr>",
                            "<tr><td>1860</td><td>30440</td></tr>",
                            "<tr><td>698</td><td>30084</td></tr>",
                            "<tr><td>870</td><td>30211</td></tr>",
                            "<tr><td>1368</td><td>30608</td></tr>",
                            "<tr><td>1880</td><td>30188</td></tr>",
                            "<tr><td>884</td><td>30333</td></tr>",
                            "<tr><td>1382</td><td>30637</td></tr>",
                            "<tr><td>778</td><td>30011</td></tr>",
                            "<tr><td>598</td><td>30052</td></tr>",
                            "<tr><td>1076</td><td>30472</td></tr>",
                            "<tr><td>1474</td><td>30339</td></tr>",
                            "<tr><td>300</td><td>30061</td></tr>",
                            "<tr><td>1966</td><td>30749</td></tr>",
                            "<tr><td>1972</td><td>30761</td></tr>",
                            "<tr><td>1872</td><td>30196</td></tr>",
                            "<tr><td>1866</td><td>30452</td></tr>",
                            "<tr><td>692</td><td>30072</td></tr>",
                            "<tr><td>1182</td><td>30094</td></tr>",
                            "<tr><td>592</td><td>30128</td></tr>",
                            "<tr><td>1082</td><td>30466</td></tr>",
                            "</table>"
                        ]
                    }
                }
            ],
            "execution_count": 18
        }
    ]
}