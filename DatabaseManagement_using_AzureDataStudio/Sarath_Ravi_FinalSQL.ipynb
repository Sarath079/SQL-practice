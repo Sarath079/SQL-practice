{
    "metadata": {
        "kernelspec": {
            "name": "SQL",
            "display_name": "SQL",
            "language": "sql"
        },
        "language_info": {
            "name": "sql",
            "version": ""
        }
    },
    "nbformat_minor": 2,
    "nbformat": 4,
    "cells": [
        {
            "cell_type": "code",
            "source": [
                "use AdventureWorks2019;"
            ],
            "metadata": {
                "azdata_cell_guid": "7f0c47cb-fe37-4902-9246-9eafefa8f29d",
                "language": "sql"
            },
            "outputs": [
                {
                    "output_type": "display_data",
                    "data": {
                        "text/html": "Commands completed successfully."
                    },
                    "metadata": {}
                },
                {
                    "output_type": "display_data",
                    "data": {
                        "text/html": "Total execution time: 00:00:00"
                    },
                    "metadata": {}
                }
            ],
            "execution_count": 3
        },
        {
            "cell_type": "code",
            "source": [
                "--1. Write SQL query which will show Product Subcategory ID, Subcategory Name, and corresponding average product standard cost.\r\n",
                "--   Only show sub-categories with average standard cost above 100. Consider only products of class ‘L’.  Order Descending by average standard cost\r\n",
                "--   In this query, use tables Production.Product and Production.ProductSubCategory\r\n",
                "SELECT ps.ProductSubcategoryID, ps.Name, AVG(pp.StandardCost) as mean\r\n",
                "from Production.ProductSubcategory ps join Production.Product pp on ps.ProductSubcategoryID=pp.ProductSubcategoryID\r\n",
                "where pp.Class = 'L'\r\n",
                "group by ps.ProductSubcategoryID, ps.Name\r\n",
                "HAVING AVG(pp.StandardCost) > 100\r\n",
                "order by mean DESC;"
            ],
            "metadata": {
                "azdata_cell_guid": "ad0b0b48-1969-4f5b-8746-1bf8cdfa7f64",
                "language": "sql",
                "tags": []
            },
            "outputs": [
                {
                    "output_type": "display_data",
                    "data": {
                        "text/html": "(6 rows affected)"
                    },
                    "metadata": {}
                },
                {
                    "output_type": "display_data",
                    "data": {
                        "text/html": "Total execution time: 00:00:00.026"
                    },
                    "metadata": {}
                },
                {
                    "output_type": "execute_result",
                    "metadata": {},
                    "execution_count": 7,
                    "data": {
                        "application/vnd.dataresource+json": {
                            "schema": {
                                "fields": [
                                    {
                                        "name": "ProductSubcategoryID"
                                    },
                                    {
                                        "name": "Name"
                                    },
                                    {
                                        "name": "mean"
                                    }
                                ]
                            },
                            "data": [
                                {
                                    "0": "3",
                                    "1": "Touring Bikes",
                                    "2": "461.4448"
                                },
                                {
                                    "0": "2",
                                    "1": "Road Bikes",
                                    "2": "450.9423"
                                },
                                {
                                    "0": "1",
                                    "1": "Mountain Bikes",
                                    "2": "301.3988"
                                },
                                {
                                    "0": "16",
                                    "1": "Touring Frames",
                                    "2": "199.8519"
                                },
                                {
                                    "0": "14",
                                    "1": "Road Frames",
                                    "2": "195.8911"
                                },
                                {
                                    "0": "12",
                                    "1": "Mountain Frames",
                                    "2": "140.6894"
                                }
                            ]
                        },
                        "text/html": [
                            "<table>",
                            "<tr><th>ProductSubcategoryID</th><th>Name</th><th>mean</th></tr>",
                            "<tr><td>3</td><td>Touring Bikes</td><td>461.4448</td></tr>",
                            "<tr><td>2</td><td>Road Bikes</td><td>450.9423</td></tr>",
                            "<tr><td>1</td><td>Mountain Bikes</td><td>301.3988</td></tr>",
                            "<tr><td>16</td><td>Touring Frames</td><td>199.8519</td></tr>",
                            "<tr><td>14</td><td>Road Frames</td><td>195.8911</td></tr>",
                            "<tr><td>12</td><td>Mountain Frames</td><td>140.6894</td></tr>",
                            "</table>"
                        ]
                    }
                }
            ],
            "execution_count": 7
        },
        {
            "cell_type": "code",
            "source": [
                "--2.  Create a view “ReorderListForLoc5’ which will show Product Name, Product ID , Product Reorder point and Inventory quantity for the products with quantities below the reorder point for Location ID 5. \r\n",
                "--    You will need to use Production.Product and join Production.ProductInventory\r\n",
                "\r\n",
                "CREATE VIEW ReorderListForLoc5 AS\r\n",
                "SELECT pp.Name, pp.ProductID, pp.ReorderPoint, pi.Quantity\r\n",
                "from Production.Product pp join Production.ProductInventory pi on pp.ProductID=pi.ProductID\r\n",
                "where pi.LocationID = 5 and pi.Quantity < pp.ReorderPoint\r\n",
                ""
            ],
            "metadata": {
                "azdata_cell_guid": "670e1f53-8830-44cf-9084-3df7b029d08e",
                "language": "sql",
                "tags": []
            },
            "outputs": [
                {
                    "output_type": "display_data",
                    "data": {
                        "text/html": "Commands completed successfully."
                    },
                    "metadata": {}
                },
                {
                    "output_type": "display_data",
                    "data": {
                        "text/html": "Total execution time: 00:00:00.005"
                    },
                    "metadata": {}
                }
            ],
            "execution_count": 8
        },
        {
            "cell_type": "markdown",
            "source": [
                "3.  <span style=\"background-color: rgb(244, 244, 244); color: rgb(0, 0, 0); font-family: arial, helvetica, sans-serif; font-size: 13.3333px;\">The following code would create a stored procedure which can checks if a specific &nbsp;product ID in present in location 5 and return the corresponding bin number</span>\n",
                "\n",
                " CREATE PROC FindProductInLoc5\n",
                "\n",
                "    @prodID  int\n",
                "\n",
                "AS\n",
                "\n",
                "    declare @bin tinyint\n",
                "\n",
                "    select  @bin = pi.Bin\n",
                "\n",
                "            from Production.ProductInventory pi\n",
                "\n",
                "            where pi.LocationID = 5 and pi.ProductID =  @prodID and pi.quantity \\>0\n",
                "\n",
                "    If (@bin \\> 0)\n",
                "\n",
                "      print ('Product found in bin ' + cast(@bin as varchar));\n",
                "\n",
                "    else\n",
                "\n",
                "print ('Product not found')\n",
                "\n",
                "For example, the code ‘exec FindProductinLoc5 316’ will return ‘Product found in bin 11’\n",
                "\n",
                "Using the above stored procedure as an example, create a new stored procedure  called ‘FindProduct’. In addition to @prodID, it would take a location as an argument (type should be smallint) and will return the corresponding bin in the selected location.  \n",
                "\n",
                "The code ‘exec FindProduct 316, 5’ will return ‘Product found in bin 11’\n",
                "\n",
                "but ‘exec FindProduct 316, 1’ should return ‘Product not found’"
            ],
            "metadata": {
                "azdata_cell_guid": "6af156bf-2515-445a-a6d6-6e75ef1e35e3"
            },
            "attachments": {}
        },
        {
            "cell_type": "code",
            "source": [
                "CREATE PROC FindProduct\r\n",
                "    @prodID  int,\r\n",
                "    @loc SMALLINT\r\n",
                "AS\r\n",
                "    declare @bin tinyint\r\n",
                "    select  @bin = pi.Bin\r\n",
                "            from Production.ProductInventory pi\r\n",
                "            where pi.LocationID = @loc and pi.ProductID =  @prodID and pi.quantity >0\r\n",
                "    If (@bin > 0)\r\n",
                "      print ('Product found in bin ' + cast(@bin as varchar));\r\n",
                "    else\r\n",
                "print ('Product not found')"
            ],
            "metadata": {
                "language": "sql",
                "azdata_cell_guid": "773e0276-4399-44f9-8ff7-f3212bc2fc49"
            },
            "outputs": [
                {
                    "output_type": "display_data",
                    "data": {
                        "text/html": "Commands completed successfully."
                    },
                    "metadata": {}
                },
                {
                    "output_type": "display_data",
                    "data": {
                        "text/html": "Total execution time: 00:00:00.006"
                    },
                    "metadata": {}
                }
            ],
            "execution_count": 11
        },
        {
            "cell_type": "code",
            "source": [
                "exec FindProduct 316, 5"
            ],
            "metadata": {
                "language": "sql",
                "azdata_cell_guid": "ace2d0cd-ac09-44e4-902b-adddc2b2a2ed"
            },
            "outputs": [
                {
                    "output_type": "display_data",
                    "data": {
                        "text/html": "Product found in bin 11"
                    },
                    "metadata": {}
                },
                {
                    "output_type": "display_data",
                    "data": {
                        "text/html": "Total execution time: 00:00:00.003"
                    },
                    "metadata": {}
                }
            ],
            "execution_count": 12
        },
        {
            "cell_type": "code",
            "source": [
                "exec FindProduct 316, 1\r\n",
                ""
            ],
            "metadata": {
                "language": "sql",
                "azdata_cell_guid": "a2874c21-de22-450d-899b-c18c8759318c"
            },
            "outputs": [
                {
                    "output_type": "display_data",
                    "data": {
                        "text/html": "Product not found"
                    },
                    "metadata": {}
                },
                {
                    "output_type": "display_data",
                    "data": {
                        "text/html": "Total execution time: 00:00:00.003"
                    },
                    "metadata": {}
                }
            ],
            "execution_count": 13
        }
    ]
}