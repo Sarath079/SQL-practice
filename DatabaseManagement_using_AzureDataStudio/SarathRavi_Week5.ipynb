{
    "metadata": {
        "kernelspec": {
            "name": "SQL",
            "display_name": "SQL",
            "language": "sql"
        },
        "language_info": {
            "name": "sql",
            "version": ""
        }
    },
    "nbformat_minor": 2,
    "nbformat": 4,
    "cells": [
        {
            "cell_type": "markdown",
            "source": [
                "<span style=\"color: rgb(0, 0, 0); font-family: arial, helvetica, sans-serif; font-size: 13.3333px; background-color: rgb(244, 244, 244);\">1. Write SELECT INTO statements to create two test tables named VendorCopy and InvoiceCopy that are complete copies of the Vendors and Invoices tables. If VendorCopy and InvoiceCopy already exist, first code two DROP TABLE statements to delete them.</span>"
            ],
            "metadata": {
                "azdata_cell_guid": "b6bcb20f-43ed-493c-928f-e2ffbb9a843a"
            },
            "attachments": {}
        },
        {
            "cell_type": "code",
            "source": [
                "use AP;"
            ],
            "metadata": {
                "azdata_cell_guid": "91284289-30d6-4d18-9233-130fb99de36e",
                "language": "sql"
            },
            "outputs": [
                {
                    "output_type": "display_data",
                    "data": {
                        "text/html": "Commands completed successfully."
                    },
                    "metadata": {}
                },
                {
                    "output_type": "display_data",
                    "data": {
                        "text/html": "Total execution time: 00:00:00.045"
                    },
                    "metadata": {}
                }
            ],
            "execution_count": 1
        },
        {
            "cell_type": "code",
            "source": [
                "drop Table VendorCopy\r\n",
                "drop table InvoiceCopy\r\n",
                "Select * \r\n",
                "Into VendorCopy\r\n",
                "From Vendors\r\n",
                "Select * \r\n",
                "Into InvoiceCopy\r\n",
                "From Invoices;\r\n",
                ""
            ],
            "metadata": {
                "azdata_cell_guid": "d0ae9a8c-3aa5-402d-a639-29bf5e0bfa65",
                "language": "sql"
            },
            "outputs": [
                {
                    "output_type": "display_data",
                    "data": {
                        "text/html": "(122 rows affected)"
                    },
                    "metadata": {}
                },
                {
                    "output_type": "display_data",
                    "data": {
                        "text/html": "(114 rows affected)"
                    },
                    "metadata": {}
                },
                {
                    "output_type": "display_data",
                    "data": {
                        "text/html": "Total execution time: 00:00:00.010"
                    },
                    "metadata": {}
                }
            ],
            "execution_count": 9
        },
        {
            "cell_type": "markdown",
            "source": [
                "2\\. Write an INSERT statement that adds a row to the InvoiceCopy table created in class with the following values:\n",
                "\n",
                "- - VendorID: 32\n",
                "        - InvoiceTotal: $434.58\n",
                "        - TermsID: 2\n",
                "        - InvoiceNumber: AX-014-027\n",
                "        - PaymentTotal: $0.00 InvoiceDueDate: 05/8/2020\n",
                "        - InvoiceDate: 4/21/2020\n",
                "        - CreditTotal: $0.00\n",
                "        - PaymentDate: null"
            ],
            "metadata": {
                "azdata_cell_guid": "ff32a2a3-68ed-4434-8735-cc3b513e75a9"
            },
            "attachments": {}
        },
        {
            "cell_type": "code",
            "source": [
                "Insert into InvoiceCopy\r\n",
                "(VendorID, InvoiceTotal, TermsID, InvoiceNumber, PaymentTotal, InvoiceDueDate, InvoiceDate, CreditTotal, PaymentDate)\r\n",
                "values (32,434.58, 2,'AX-014-027' ,0.00, '05/8/2020', '4/21/2020', 0.00, NULL );\r\n",
                ""
            ],
            "metadata": {
                "azdata_cell_guid": "a638efe6-7bf5-4101-93db-b69a98ae4f88",
                "language": "sql"
            },
            "outputs": [
                {
                    "output_type": "display_data",
                    "data": {
                        "text/html": "(1 row affected)"
                    },
                    "metadata": {}
                },
                {
                    "output_type": "display_data",
                    "data": {
                        "text/html": "Total execution time: 00:00:00.005"
                    },
                    "metadata": {}
                }
            ],
            "execution_count": 15
        },
        {
            "cell_type": "markdown",
            "source": [
                "<span style=\"color: rgb(0, 0, 0); font-family: arial, helvetica, sans-serif; font-size: 13.3333px; background-color: rgb(255, 255, 255);\">3. Write an UPDATE statement that modifies the Vendor table. Change the default account number to 403 for each vendor that has a default account number of 400.</span>"
            ],
            "metadata": {
                "azdata_cell_guid": "39fda013-ab71-4553-9b5a-4d80c6777554"
            },
            "attachments": {}
        },
        {
            "cell_type": "code",
            "source": [
                "update Vendors\r\n",
                "set DefaultAccountNo = 403\r\n",
                "where DefaultAccountNo = 400"
            ],
            "metadata": {
                "azdata_cell_guid": "d1ae5b3a-c041-4f4d-81b9-803d2e9cf37a",
                "language": "sql"
            },
            "outputs": [
                {
                    "output_type": "display_data",
                    "data": {
                        "text/html": "(6 rows affected)"
                    },
                    "metadata": {}
                },
                {
                    "output_type": "display_data",
                    "data": {
                        "text/html": "Total execution time: 00:00:00.008"
                    },
                    "metadata": {}
                }
            ],
            "execution_count": 16
        },
        {
            "cell_type": "markdown",
            "source": [
                "<span style=\"color: rgb(0, 0, 0); font-family: arial, helvetica, sans-serif; font-size: 13.3333px; background-color: rgb(255, 255, 255);\">4. Write an INSERT statement that adds a row to the VendorCopy table for each non-California vendor in the Vendors table. (This will result in duplicate vendors in the VendorCopy table.)</span>"
            ],
            "metadata": {
                "azdata_cell_guid": "8315765f-1427-410e-976d-91d7e10d1f94"
            },
            "attachments": {}
        },
        {
            "cell_type": "code",
            "source": [
                "Insert into VendorCopy \r\n",
                "select *\r\n",
                "from Vendors as ve\r\n",
                "where ve.VendorState <> 'CA';"
            ],
            "metadata": {
                "azdata_cell_guid": "82ec2de1-422e-48f7-84a8-b8e78e5966dd",
                "language": "sql"
            },
            "outputs": [
                {
                    "output_type": "error",
                    "evalue": "Msg 8101, Level 16, State 1, Line 1\r\nAn explicit value for the identity column in table 'VendorCopy' can only be specified when a column list is used and IDENTITY_INSERT is ON.",
                    "ename": "",
                    "traceback": []
                },
                {
                    "output_type": "display_data",
                    "data": {
                        "text/html": "Total execution time: 00:00:00.001"
                    },
                    "metadata": {}
                }
            ],
            "execution_count": 21
        },
        {
            "cell_type": "markdown",
            "source": [
                "5.   <span style=\"color: rgb(0, 0, 0); font-family: arial, helvetica, sans-serif; font-size: 13.3333px; background-color: rgb(255, 255, 255);\">&nbsp;Write an UPDATE statement that modifies the InvoiceCopy table. Change the PaymentDate to today’s date and the PaymentTotal to the balance due for each invoice with a balance due. Set today’s date with a literal date string, or use the GETDATE() function.</span>"
            ],
            "metadata": {
                "azdata_cell_guid": "a4266014-c973-4ecf-9eb2-68b745171162"
            },
            "attachments": {}
        },
        {
            "cell_type": "code",
            "source": [
                "update InvoiceCopy \r\n",
                "set PaymentDate = GETDATE(), PaymentTotal = CreditTotal\r\n",
                "where CreditTotal<>0;"
            ],
            "metadata": {
                "azdata_cell_guid": "a59f729f-0b36-457f-abae-e0dbda82d707",
                "language": "sql"
            },
            "outputs": [
                {
                    "output_type": "display_data",
                    "data": {
                        "text/html": "(3 rows affected)"
                    },
                    "metadata": {}
                },
                {
                    "output_type": "display_data",
                    "data": {
                        "text/html": "Total execution time: 00:00:00.003"
                    },
                    "metadata": {}
                }
            ],
            "execution_count": 26
        },
        {
            "cell_type": "markdown",
            "source": [
                "<span style=\"color: rgb(0, 0, 0); font-family: arial, helvetica, sans-serif; font-size: 13.3333px; background-color: rgb(255, 255, 255);\">6. Write an UPDATE statement that modifies the InvoiceCopy table. Change TermsID to 2 for each invoice that’s from a vendor with a DefaultTermsID of 2. Use a subquery.</span>"
            ],
            "metadata": {
                "azdata_cell_guid": "2a4d35ce-0134-49a3-a53b-3dc6ae63e963"
            },
            "attachments": {}
        },
        {
            "cell_type": "code",
            "source": [
                "Update InvoiceCopy\r\n",
                "set TermsID = 2\r\n",
                "where VendorID IN (select VendorID from Vendors where DefaultTermsID = 2)"
            ],
            "metadata": {
                "azdata_cell_guid": "00b66990-46d6-4727-983d-8708ce0fd8f3",
                "language": "sql"
            },
            "outputs": [
                {
                    "output_type": "display_data",
                    "data": {
                        "text/html": "(18 rows affected)"
                    },
                    "metadata": {}
                },
                {
                    "output_type": "display_data",
                    "data": {
                        "text/html": "Total execution time: 00:00:00.009"
                    },
                    "metadata": {}
                }
            ],
            "execution_count": 28
        },
        {
            "cell_type": "markdown",
            "source": [
                "<span style=\"color: rgb(0, 0, 0); font-family: arial, helvetica, sans-serif; font-size: 13.3333px; background-color: rgb(255, 255, 255);\">7. Write a DELETE statement that deletes all vendors in the state of Minnesota from the VendorCopy table.</span>"
            ],
            "metadata": {
                "azdata_cell_guid": "8ca2e7ee-fb17-429d-9166-5c4680ce9afd"
            },
            "attachments": {}
        },
        {
            "cell_type": "code",
            "source": [
                "Delete VendorCopy\r\n",
                "where VendorState = 'MN'"
            ],
            "metadata": {
                "azdata_cell_guid": "2a500ece-3cba-4d11-a251-e4df05ecf8c7",
                "language": "sql"
            },
            "outputs": [
                {
                    "output_type": "display_data",
                    "data": {
                        "text/html": "(1 row affected)"
                    },
                    "metadata": {}
                },
                {
                    "output_type": "display_data",
                    "data": {
                        "text/html": "Total execution time: 00:00:00.007"
                    },
                    "metadata": {}
                }
            ],
            "execution_count": 29
        },
        {
            "cell_type": "markdown",
            "source": [
                "8. <span style=\"color: rgb(0, 0, 0); font-family: arial, helvetica, sans-serif; font-size: 13.3333px; background-color: rgb(255, 255, 255);\">Write SELECT INTO statements to create two test tables named VendorCopy and InvoiceCopy that are complete copies of the Vendors and Invoices tables. If VendorCopy and InvoiceCopy already exist, first code two DROP TABLE statements to delete them.</span>"
            ],
            "metadata": {
                "azdata_cell_guid": "b9db7a4b-324b-44ae-b71d-9705299c1271"
            },
            "attachments": {}
        },
        {
            "cell_type": "code",
            "source": [
                "drop Table VendorCopy\r\n",
                "drop table InvoiceCopy\r\n",
                "Select * \r\n",
                "Into VendorCopy\r\n",
                "From Vendors\r\n",
                "Select * \r\n",
                "Into InvoiceCopy\r\n",
                "From Invoices;\r\n",
                ""
            ],
            "metadata": {
                "azdata_cell_guid": "7e490829-8ef0-4971-9a35-f92e3f69ebe0",
                "language": "sql"
            },
            "outputs": [
                {
                    "output_type": "display_data",
                    "data": {
                        "text/html": "(122 rows affected)"
                    },
                    "metadata": {}
                },
                {
                    "output_type": "display_data",
                    "data": {
                        "text/html": "(114 rows affected)"
                    },
                    "metadata": {}
                },
                {
                    "output_type": "display_data",
                    "data": {
                        "text/html": "Total execution time: 00:00:00.016"
                    },
                    "metadata": {}
                }
            ],
            "execution_count": 30
        }
    ]
}