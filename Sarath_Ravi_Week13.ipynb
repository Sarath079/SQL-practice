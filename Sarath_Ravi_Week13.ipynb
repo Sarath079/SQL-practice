{
    "metadata": {
        "kernelspec": {
            "name": "SQL",
            "display_name": "SQL",
            "language": "sql"
        },
        "language_info": {
            "name": "sql",
            "version": ""
        }
    },
    "nbformat_minor": 2,
    "nbformat": 4,
    "cells": [
        {
            "cell_type": "code",
            "source": [
                "-- Create user log in with default database Master\r\n",
                "CREATE LOGIN login_id WITH PASSWORD = 'sara79'"
            ],
            "metadata": {
                "azdata_cell_guid": "2054217f-795b-48dc-9e7a-f89a5ad6449e",
                "language": "sql"
            },
            "outputs": [
                {
                    "output_type": "display_data",
                    "data": {
                        "text/html": "Commands completed successfully."
                    },
                    "metadata": {}
                },
                {
                    "output_type": "display_data",
                    "data": {
                        "text/html": "Total execution time: 00:00:00.006"
                    },
                    "metadata": {}
                }
            ],
            "execution_count": 4
        },
        {
            "cell_type": "code",
            "source": [
                "--Create a database user for the login\r\n",
                "use AdventureWorks2019;\r\n",
                "CREATE USER login_id FOR LOGIN login_id"
            ],
            "metadata": {
                "azdata_cell_guid": "90bf2bd6-3366-415d-bf0f-ef82e07312e3",
                "language": "sql"
            },
            "outputs": [
                {
                    "output_type": "display_data",
                    "data": {
                        "text/html": "Commands completed successfully."
                    },
                    "metadata": {}
                },
                {
                    "output_type": "display_data",
                    "data": {
                        "text/html": "Total execution time: 00:00:00.004"
                    },
                    "metadata": {}
                }
            ],
            "execution_count": 8
        },
        {
            "cell_type": "code",
            "source": [
                "--Grant ‘select’ to the new user on Person.Person table\r\n",
                "use AdventureWorks2019;\r\n",
                "GRANT select \r\n",
                "ON Person.Person\r\n",
                "TO login_id;"
            ],
            "metadata": {
                "azdata_cell_guid": "58490648-d2ef-4ff1-9fd3-6872f8d206a3",
                "language": "sql",
                "tags": []
            },
            "outputs": [
                {
                    "output_type": "display_data",
                    "data": {
                        "text/html": "Commands completed successfully."
                    },
                    "metadata": {}
                },
                {
                    "output_type": "display_data",
                    "data": {
                        "text/html": "Total execution time: 00:00:00.004"
                    },
                    "metadata": {}
                }
            ],
            "execution_count": 9
        },
        {
            "cell_type": "code",
            "source": [
                "--Grant ‘Update’ to the new user on Person.Address table\r\n",
                "GRANT UPDATE\r\n",
                "on Person.Address\r\n",
                "TO login_id;"
            ],
            "metadata": {
                "azdata_cell_guid": "5f429757-8c59-4dfd-9022-fbcdc8649ed1",
                "language": "sql"
            },
            "outputs": [
                {
                    "output_type": "display_data",
                    "data": {
                        "text/html": "Commands completed successfully."
                    },
                    "metadata": {}
                },
                {
                    "output_type": "display_data",
                    "data": {
                        "text/html": "Total execution time: 00:00:00.005"
                    },
                    "metadata": {}
                }
            ],
            "execution_count": 10
        },
        {
            "cell_type": "markdown",
            "source": [
                "2. <span style=\"background-color: rgb(244, 244, 244); color: rgb(0, 0, 0); font-family: arial, helvetica, sans-serif; font-size: 13.3333px;\">For the products that are finished goods, find a product Categories with average price above 200$</span>\n",
                "\n",
                "You need to use three tables:  Product, ProductSubcategory and Product Category\n",
                "\n",
                "Product table contains price and subcategory, you can join it to ProductSubcategory table to get the ProductCategoryID and finally join to Product category table to get the Category description."
            ],
            "metadata": {
                "azdata_cell_guid": "1a09beb3-8731-4514-9976-b20ca9a70846"
            },
            "attachments": {}
        },
        {
            "cell_type": "code",
            "source": [
                "use AdventureWorks2019;\r\n",
                "SELECT pc.Name AS Category, AVG(p.ListPrice) AS AveragePrice\r\n",
                "FROM Production.Product p\r\n",
                "JOIN Production.ProductSubcategory ps ON p.ProductSubcategoryID = ps.ProductSubcategoryID\r\n",
                "JOIN Production.ProductCategory pc ON ps.ProductCategoryID = pc.ProductCategoryID\r\n",
                "WHERE pc.Name IN (SELECT pc.Name \r\n",
                "                     FROM Production.ProductCategory pc \r\n",
                "                     JOIN Production.ProductSubcategory ps ON pc.ProductCategoryID = ps.ProductCategoryID \r\n",
                "                     JOIN Production.Product p ON ps.ProductSubcategoryID = p.ProductSubcategoryID\r\n",
                "                     WHERE p.FinishedGoodsFlag = 1)\r\n",
                "GROUP BY pc.Name\r\n",
                "HAVING AVG(p.ListPrice) > 200;"
            ],
            "metadata": {
                "azdata_cell_guid": "df8a4b14-29b9-4917-a03b-18bf7d2cf9d9",
                "language": "sql"
            },
            "outputs": [
                {
                    "output_type": "display_data",
                    "data": {
                        "text/html": "(2 rows affected)"
                    },
                    "metadata": {}
                },
                {
                    "output_type": "display_data",
                    "data": {
                        "text/html": "Total execution time: 00:00:00.036"
                    },
                    "metadata": {}
                },
                {
                    "output_type": "execute_result",
                    "metadata": {},
                    "execution_count": 19,
                    "data": {
                        "application/vnd.dataresource+json": {
                            "schema": {
                                "fields": [
                                    {
                                        "name": "Category"
                                    },
                                    {
                                        "name": "AveragePrice"
                                    }
                                ]
                            },
                            "data": [
                                {
                                    "0": "Bikes",
                                    "1": "1586.737"
                                },
                                {
                                    "0": "Components",
                                    "1": "469.8602"
                                }
                            ]
                        },
                        "text/html": [
                            "<table>",
                            "<tr><th>Category</th><th>AveragePrice</th></tr>",
                            "<tr><td>Bikes</td><td>1586.737</td></tr>",
                            "<tr><td>Components</td><td>469.8602</td></tr>",
                            "</table>"
                        ]
                    }
                }
            ],
            "execution_count": 19
        }
    ]
}