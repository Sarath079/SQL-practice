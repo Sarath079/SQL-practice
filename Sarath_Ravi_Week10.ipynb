{
    "metadata": {
        "kernelspec": {
            "name": "SQL",
            "display_name": "SQL",
            "language": "sql"
        },
        "language_info": {
            "name": "sql",
            "version": ""
        }
    },
    "nbformat_minor": 2,
    "nbformat": 4,
    "cells": [
        {
            "cell_type": "markdown",
            "source": [
                " **Combine all SQL commands you used to create this Project Management database into a script. It should include creation of the database, creation of the tables and data insertion**"
            ],
            "metadata": {
                "azdata_cell_guid": "8d277c63-4825-426c-9686-695183fee2fd"
            },
            "attachments": {}
        },
        {
            "cell_type": "code",
            "source": [
                "create DATABASE Project_management;\r\n",
                "GO\r\n",
                "\r\n",
                "use Project_management;\r\n",
                "\r\n",
                "CREATE table department\r\n",
                "(dname VARCHAR(15) UNIQUE NOT NULL,\r\n",
                "dnumber INT NOT NULL PRIMARY KEY,\r\n",
                "mgr_ssn char(9) NULL);\r\n",
                "\r\n",
                "create table project\r\n",
                "(pname varchar(15) NOT NULL,\r\n",
                "pnumber INT NOT NULL Primary Key identity,\r\n",
                "plocation varchar(15),\r\n",
                "dnum INT NULL);\r\n",
                "\r\n",
                "CREATE TABLE work_on\r\n",
                "(essn char(9) NOT NULL,\r\n",
                "pno int,\r\n",
                "hours decimal(3,1));\r\n",
                "\r\n",
                "CREATE TABLE employee\r\n",
                "(fname varchar(100),\r\n",
                "minit char(1),\r\n",
                "lname varchar(100),\r\n",
                "ssn char(9) NOT NULL Primary Key,\r\n",
                "bdate date,\r\n",
                "address varchar(100),\r\n",
                "sex char(1),\r\n",
                "salary decimal(10,2),\r\n",
                "super_ssn char(9) NULL,\r\n",
                "dno int NULL);\r\n",
                "\r\n",
                "insert into employee(ssn, super_ssn, dno)\r\n",
                "values('ssn007', 'ssn009', 008),\r\n",
                "('ssn008', 'ssn009', 009),\r\n",
                "('ssn009', 'ssn009', 008),\r\n",
                "('ssn010', 'ssn009', 007),\r\n",
                "('ssn0011', 'ssn009', 010)\r\n",
                "\r\n",
                "insert into department(dname, dnumber, mgr_ssn)\r\n",
                "values('sara','007', 'ssn007'),\r\n",
                "('production','008','ssn008'),\r\n",
                "('design','009', 'ssn009'),\r\n",
                "('marketing','010', 'ssn010'),\r\n",
                "('planning','011', 'ssn0011');\r\n",
                "\r\n",
                "insert into project(pname, plocation, dnum)\r\n",
                "values('prj1', 'che', '007'),\r\n",
                "('prj2', 'thirunel', '007'),\r\n",
                "('prj3', 'madu', '009'),\r\n",
                "('prj4', 'kada', '008'),\r\n",
                "('prj5', 'krish', '009');\r\n",
                "\r\n",
                "insert into work_on(essn)\r\n",
                "values('ssn007'),\r\n",
                "('ssn008'),\r\n",
                "('ssn009'),\r\n",
                "('ssn011'),\r\n",
                "('ssn007');"
            ],
            "metadata": {
                "azdata_cell_guid": "4a30ca1b-12c1-4bf6-a800-95babe8964e8",
                "language": "sql"
            },
            "outputs": [
                {
                    "output_type": "display_data",
                    "data": {
                        "text/html": "Commands completed successfully."
                    },
                    "metadata": {}
                },
                {
                    "output_type": "display_data",
                    "data": {
                        "text/html": "(5 rows affected)"
                    },
                    "metadata": {}
                },
                {
                    "output_type": "display_data",
                    "data": {
                        "text/html": "(5 rows affected)"
                    },
                    "metadata": {}
                },
                {
                    "output_type": "display_data",
                    "data": {
                        "text/html": "(5 rows affected)"
                    },
                    "metadata": {}
                },
                {
                    "output_type": "display_data",
                    "data": {
                        "text/html": "(5 rows affected)"
                    },
                    "metadata": {}
                },
                {
                    "output_type": "display_data",
                    "data": {
                        "text/html": "Total execution time: 00:00:00.305"
                    },
                    "metadata": {}
                }
            ],
            "execution_count": 4
        },
        {
            "cell_type": "markdown",
            "source": [
                " **Create a new view called “Project Hours” which would show for every project how many total hours were spent working on it, and the number of employees working on the project. Query the view to find project which have no hours logged**"
            ],
            "metadata": {
                "azdata_cell_guid": "96e2f249-7912-4f70-b2b4-16322e08579d"
            },
            "attachments": {}
        },
        {
            "cell_type": "code",
            "source": [
                "create view project_hours as \r\n",
                "  select pno, sum(hours) as total_hours, count(essn) as num_employees\r\n",
                "  from work_on\r\n",
                "  group by pno;\r\n",
                ""
            ],
            "metadata": {
                "azdata_cell_guid": "a78e5563-d964-4c18-b3a7-c380b6abfc5b",
                "language": "sql",
                "tags": []
            },
            "outputs": [
                {
                    "output_type": "display_data",
                    "data": {
                        "text/html": "Commands completed successfully."
                    },
                    "metadata": {}
                },
                {
                    "output_type": "display_data",
                    "data": {
                        "text/html": "Total execution time: 00:00:00.006"
                    },
                    "metadata": {}
                }
            ],
            "execution_count": 5
        },
        {
            "cell_type": "markdown",
            "source": [
                " **Create a script which would query and print out number of people not involved in the projects.  If everyone is involved, the scripts should print “All employees are working on the projects”. Implement this by first creating a temporary table which would contain employees and the number of hours they worked on projects.**"
            ],
            "metadata": {
                "azdata_cell_guid": "94a337fa-eef4-4d6f-b694-3da8bb4e7afb"
            },
            "attachments": {}
        },
        {
            "cell_type": "code",
            "source": [
                "\r\n",
                "\r\n",
                "select essn, sum(hours) as total_hours\r\n",
                "into #employeeswork\r\n",
                "from work_on\r\n",
                "group by essn;\r\n",
                "\r\n",
                "declare @num_employees int;\r\n",
                "set @num_employees = \r\n",
                " (select count(essn) from #employeeswork)\r\n",
                " if (select count(ssn) from employee) - @num_employees >0\r\n",
                "   print 'some employees are not working on the projects'\r\n",
                "\r\n",
                " ELSE\r\n",
                "  print 'All employees are working on the projects';\r\n",
                ""
            ],
            "metadata": {
                "azdata_cell_guid": "62899fcb-0571-4173-8c7b-f3fbef41eb8f",
                "language": "sql"
            },
            "outputs": [
                {
                    "output_type": "display_data",
                    "data": {
                        "text/html": "Warning: Null value is eliminated by an aggregate or other SET operation."
                    },
                    "metadata": {}
                },
                {
                    "output_type": "display_data",
                    "data": {
                        "text/html": "(4 rows affected)"
                    },
                    "metadata": {}
                },
                {
                    "output_type": "display_data",
                    "data": {
                        "text/html": "some employees are not working on the projects"
                    },
                    "metadata": {}
                },
                {
                    "output_type": "display_data",
                    "data": {
                        "text/html": "Total execution time: 00:00:00.009"
                    },
                    "metadata": {}
                }
            ],
            "execution_count": 21
        }
    ]
}